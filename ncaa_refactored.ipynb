{
 "cells": [
  {
   "cell_type": "markdown",
   "metadata": {},
   "source": [
    "Title: March Madness\n",
    "Date: 2019-04-18 12:00\n",
    "Topic: EDA, Modeling and Evaluation\n",
    "Slug: ncaa"
   ]
  },
  {
   "cell_type": "markdown",
   "metadata": {},
   "source": [
    "How likely is a team to make the Final Four of the NCAA Tournament?"
   ]
  },
  {
   "cell_type": "markdown",
   "metadata": {},
   "source": [
    "# Introduction\n",
    "\n",
    "Each year, close to $4 billion is wagered on the NCAA Division 1 men's basketball tournament. Most of that money is wagered where the objective is to correctly predict winners of each game, with emphasis on the last four teams remaining (the Final Four). \n",
    "\n",
    "In this project, my motivation is the following:\n",
    "\n",
    "> Based on a college's regular season performance and seeding information, can I predict whether or not they will reach the final four? \n",
    "<br>\n",
    "<br>\n",
    "\n",
    "What are the variables that are correlated to predicting teams that make it to the final four? As a corollary, my model will also output the associated probabilities of making it to the final 4. Am I able to outperform a naive model? As even the sport pundits will tell you, since 2008, 53% of the time, at least 2 No. 1 seeds make the final four. So just by choosing two No 1. seeds, you're half way there.\n",
    "\n",
    "\n",
    "As a trusted advisor to Coach Krzyzewski (Duke) or Coach Izzo (Michigan State), how would I recommend spending time developing the team? \n",
    "\n",
    "Or at the very least, how do I improve my 2020 bracket to make some money?\n",
    "\n",
    "---"
   ]
  },
  {
   "cell_type": "markdown",
   "metadata": {},
   "source": [
    "# Preprocessing"
   ]
  },
  {
   "cell_type": "markdown",
   "metadata": {},
   "source": [
    "## Import libraries"
   ]
  },
  {
   "cell_type": "code",
   "execution_count": 7,
   "metadata": {},
   "outputs": [],
   "source": [
    "# data wrangling\n",
    "import pandas as pd\n",
    "import numpy as np\n",
    "\n",
    "# plotting \n",
    "import seaborn as sns\n",
    "import matplotlib.pyplot as plt\n",
    "%matplotlib inline\n",
    "plt.style.use('fivethirtyeight')\n",
    "from IPython.display import HTML\n",
    "\n",
    "# preprocessing & feature engineering\n",
    "from sklearn.preprocessing import StandardScaler, LabelBinarizer, PolynomialFeatures\n",
    "from sklearn_pandas import DataFrameMapper, CategoricalImputer, FunctionTransformer\n",
    "from sklearn.impute import SimpleImputer\n",
    "from sklearn.pipeline import make_pipeline\n",
    "from imblearn.over_sampling import RandomOverSampler\n",
    "\n",
    "# modelling & evaluation\n",
    "from sklearn.model_selection import train_test_split\n",
    "from sklearn.linear_model import LogisticRegression\n",
    "from sklearn.neighbors import KNeighborsClassifier\n",
    "from sklearn.model_selection import GridSearchCV, cross_val_score\n",
    "from sklearn.metrics import roc_auc_score, confusion_matrix\n",
    "\n",
    "# scientific notation off\n",
    "np.set_printoptions(suppress=True)\n",
    "pd.options.display.float_format = '{:.2f}'.format\n",
    "\n",
    "# suppress warnings\n",
    "from sklearn.exceptions import DataConversionWarning\n",
    "import warnings\n",
    "warnings.filterwarnings(action='ignore')"
   ]
  },
  {
   "cell_type": "markdown",
   "metadata": {},
   "source": [
    "---\n",
    "## Data\n",
    "\n",
    "The data spans 2003 to 2017 and is compiled from [sports-reference.com](https://www.sports-reference.com/cbb/schools/virginia/2019-gamelogs.html). \n",
    "\n",
    "The data is spread across four files:\n",
    "\n",
    "- `regular_season.csv` - gamelogs for every regular season game\n",
    "- `teams.csv` - team_id, names, and conferences\n",
    "- `march_madness.csv` - gamelogs for each NCAA tournament game\n",
    "- `march_madness_seeds.csv` - entry seeds for each team (W, X, Y, Z indicate the region)"
   ]
  },
  {
   "cell_type": "code",
   "execution_count": 9,
   "metadata": {},
   "outputs": [
    {
     "data": {
      "text/plain": [
       "'/Users/gc/portfolio/2_march_madness'"
      ]
     },
     "execution_count": 9,
     "metadata": {},
     "output_type": "execute_result"
    }
   ],
   "source": [
    "pwd"
   ]
  },
  {
   "cell_type": "markdown",
   "metadata": {},
   "source": [
    "### Understand the data"
   ]
  },
  {
   "cell_type": "code",
   "execution_count": 10,
   "metadata": {},
   "outputs": [
    {
     "data": {
      "text/html": [
       "<table border=\"1\" class=\"dataframe table table-responsive table-striped table-bordered\">\n",
       "  <thead>\n",
       "    <tr style=\"text-align: right;\">\n",
       "      <th></th>\n",
       "      <th>season</th>\n",
       "      <th>day_in_season</th>\n",
       "      <th>winning_team_id</th>\n",
       "      <th>winning_team_score</th>\n",
       "      <th>losing_team_id</th>\n",
       "      <th>losing_team_score</th>\n",
       "      <th>winning_team_field_goals</th>\n",
       "      <th>winning_team_field_goals_attempted</th>\n",
       "      <th>winning_team_three_points</th>\n",
       "      <th>winning_team_three_points_attempted</th>\n",
       "      <th>winning_team_free_throws</th>\n",
       "      <th>winning_team_free_throws_attempted</th>\n",
       "      <th>winning_team_offensive_rebounds</th>\n",
       "      <th>winning_team_defensive_rebounds</th>\n",
       "      <th>winning_team_assists</th>\n",
       "      <th>winning_team_turnovers</th>\n",
       "      <th>winning_team_steals</th>\n",
       "      <th>winning_team_blocks</th>\n",
       "      <th>winning_team_personal_fouls</th>\n",
       "      <th>losing_team_field_goals</th>\n",
       "      <th>losing_team_field_goals_attempted</th>\n",
       "      <th>losing_team_three_points</th>\n",
       "      <th>losing_team_three_points_attempted</th>\n",
       "      <th>losing_team_free_throws</th>\n",
       "      <th>losing_team_free_throws_attempted</th>\n",
       "      <th>losing_team_offensive_rebounds</th>\n",
       "      <th>losing_team_defensive_rebounds</th>\n",
       "      <th>losing_team_assists</th>\n",
       "      <th>losing_team_turnovers</th>\n",
       "      <th>losing_team_steals</th>\n",
       "      <th>losing_team_blocks</th>\n",
       "      <th>losing_team_personal_fouls</th>\n",
       "    </tr>\n",
       "  </thead>\n",
       "  <tbody>\n",
       "    <tr>\n",
       "      <th>76633</th>\n",
       "      <td>2017</td>\n",
       "      <td>132</td>\n",
       "      <td>1348</td>\n",
       "      <td>70</td>\n",
       "      <td>1433</td>\n",
       "      <td>63</td>\n",
       "      <td>24</td>\n",
       "      <td>54</td>\n",
       "      <td>8</td>\n",
       "      <td>20</td>\n",
       "      <td>14</td>\n",
       "      <td>19</td>\n",
       "      <td>9</td>\n",
       "      <td>27</td>\n",
       "      <td>12</td>\n",
       "      <td>6</td>\n",
       "      <td>3</td>\n",
       "      <td>7</td>\n",
       "      <td>18</td>\n",
       "      <td>21</td>\n",
       "      <td>67</td>\n",
       "      <td>4</td>\n",
       "      <td>14</td>\n",
       "      <td>17</td>\n",
       "      <td>22</td>\n",
       "      <td>23</td>\n",
       "      <td>24</td>\n",
       "      <td>8</td>\n",
       "      <td>5</td>\n",
       "      <td>4</td>\n",
       "      <td>1</td>\n",
       "      <td>16</td>\n",
       "    </tr>\n",
       "    <tr>\n",
       "      <th>76634</th>\n",
       "      <td>2017</td>\n",
       "      <td>132</td>\n",
       "      <td>1374</td>\n",
       "      <td>71</td>\n",
       "      <td>1153</td>\n",
       "      <td>56</td>\n",
       "      <td>26</td>\n",
       "      <td>52</td>\n",
       "      <td>10</td>\n",
       "      <td>19</td>\n",
       "      <td>9</td>\n",
       "      <td>13</td>\n",
       "      <td>7</td>\n",
       "      <td>27</td>\n",
       "      <td>14</td>\n",
       "      <td>8</td>\n",
       "      <td>2</td>\n",
       "      <td>6</td>\n",
       "      <td>15</td>\n",
       "      <td>19</td>\n",
       "      <td>61</td>\n",
       "      <td>4</td>\n",
       "      <td>24</td>\n",
       "      <td>14</td>\n",
       "      <td>18</td>\n",
       "      <td>17</td>\n",
       "      <td>22</td>\n",
       "      <td>7</td>\n",
       "      <td>7</td>\n",
       "      <td>7</td>\n",
       "      <td>1</td>\n",
       "      <td>13</td>\n",
       "    </tr>\n",
       "    <tr>\n",
       "      <th>76635</th>\n",
       "      <td>2017</td>\n",
       "      <td>132</td>\n",
       "      <td>1407</td>\n",
       "      <td>59</td>\n",
       "      <td>1402</td>\n",
       "      <td>53</td>\n",
       "      <td>21</td>\n",
       "      <td>60</td>\n",
       "      <td>1</td>\n",
       "      <td>17</td>\n",
       "      <td>16</td>\n",
       "      <td>19</td>\n",
       "      <td>14</td>\n",
       "      <td>19</td>\n",
       "      <td>5</td>\n",
       "      <td>5</td>\n",
       "      <td>10</td>\n",
       "      <td>3</td>\n",
       "      <td>10</td>\n",
       "      <td>20</td>\n",
       "      <td>48</td>\n",
       "      <td>6</td>\n",
       "      <td>17</td>\n",
       "      <td>7</td>\n",
       "      <td>8</td>\n",
       "      <td>9</td>\n",
       "      <td>27</td>\n",
       "      <td>10</td>\n",
       "      <td>17</td>\n",
       "      <td>1</td>\n",
       "      <td>7</td>\n",
       "      <td>18</td>\n",
       "    </tr>\n",
       "  </tbody>\n",
       "</table>"
      ],
      "text/plain": [
       "<IPython.core.display.HTML object>"
      ]
     },
     "execution_count": 10,
     "metadata": {},
     "output_type": "execute_result"
    }
   ],
   "source": [
    "regular = pd.read_csv(\"./data/regular_season.csv\")\n",
    "HTML(regular.tail(3).to_html(classes=\"table table-responsive table-striped table-bordered\"))"
   ]
  },
  {
   "cell_type": "markdown",
   "metadata": {},
   "source": [
    "Let's interpret the last row.\n",
    "- 1407 = Troy, 1402 = Texas State.\n",
    "- Troy beat Texas State 59 to 53 on 132 day in season which is Sunday, March 2017. (Technically, 2016 - 2017 Season). Notice that all games finish on day 132 in each year."
   ]
  },
  {
   "cell_type": "markdown",
   "metadata": {},
   "source": [
    "From the regular season, there are:\n",
    "\n",
    "* 32 variables\n",
    "* games from 2003 to 2017\n",
    "* stats per each team, team id\n",
    "* no null values, all ints"
   ]
  },
  {
   "cell_type": "code",
   "execution_count": 11,
   "metadata": {},
   "outputs": [
    {
     "data": {
      "text/html": [
       "<table border=\"1\" class=\"dataframe table table-responsive table-striped table-bordered\">\n",
       "  <thead>\n",
       "    <tr style=\"text-align: right;\">\n",
       "      <th></th>\n",
       "      <th>season</th>\n",
       "      <th>team_id</th>\n",
       "      <th>team_name</th>\n",
       "      <th>conference_code</th>\n",
       "      <th>conference_name</th>\n",
       "    </tr>\n",
       "  </thead>\n",
       "  <tbody>\n",
       "    <tr>\n",
       "      <th>0</th>\n",
       "      <td>2014</td>\n",
       "      <td>1101</td>\n",
       "      <td>Abilene Chr</td>\n",
       "      <td>southland</td>\n",
       "      <td>Southland Conference</td>\n",
       "    </tr>\n",
       "    <tr>\n",
       "      <th>1</th>\n",
       "      <td>2015</td>\n",
       "      <td>1101</td>\n",
       "      <td>Abilene Chr</td>\n",
       "      <td>southland</td>\n",
       "      <td>Southland Conference</td>\n",
       "    </tr>\n",
       "    <tr>\n",
       "      <th>2</th>\n",
       "      <td>2016</td>\n",
       "      <td>1101</td>\n",
       "      <td>Abilene Chr</td>\n",
       "      <td>southland</td>\n",
       "      <td>Southland Conference</td>\n",
       "    </tr>\n",
       "  </tbody>\n",
       "</table>"
      ],
      "text/plain": [
       "<IPython.core.display.HTML object>"
      ]
     },
     "execution_count": 11,
     "metadata": {},
     "output_type": "execute_result"
    }
   ],
   "source": [
    "teams = pd.read_csv(\"./data/teams.csv\")\n",
    "HTML(teams.head(3).to_html(classes=\"table table-responsive table-striped table-bordered\"))"
   ]
  },
  {
   "cell_type": "code",
   "execution_count": null,
   "metadata": {},
   "outputs": [],
   "source": [
    "teams = teams.drop(columns=[\"conference_name\"])"
   ]
  },
  {
   "cell_type": "markdown",
   "metadata": {},
   "source": [
    "From the teams data:\n",
    "<ul> \n",
    "    <li> join team name, conference code to easily interpret </li>\n",
    "    <li> drop conference name, it's redundant </li>\n",
    "    <li> conference info from 2003 to 2018 </li>\n",
    "    <li> no null values, int and object looks good </li>\n",
    "</ul>"
   ]
  },
  {
   "cell_type": "code",
   "execution_count": 12,
   "metadata": {},
   "outputs": [
    {
     "data": {
      "text/html": [
       "<table border=\"1\" class=\"dataframe table table-responsive table-striped table-bordered\">\n",
       "  <thead>\n",
       "    <tr style=\"text-align: right;\">\n",
       "      <th></th>\n",
       "      <th>season</th>\n",
       "      <th>day_in_season</th>\n",
       "      <th>winning_team_id</th>\n",
       "      <th>winning_team_score</th>\n",
       "      <th>losing_team_id</th>\n",
       "      <th>losing_team_score</th>\n",
       "    </tr>\n",
       "  </thead>\n",
       "  <tbody>\n",
       "    <tr>\n",
       "      <th>0</th>\n",
       "      <td>1985</td>\n",
       "      <td>136</td>\n",
       "      <td>1116</td>\n",
       "      <td>63</td>\n",
       "      <td>1234</td>\n",
       "      <td>54</td>\n",
       "    </tr>\n",
       "    <tr>\n",
       "      <th>1</th>\n",
       "      <td>1985</td>\n",
       "      <td>136</td>\n",
       "      <td>1120</td>\n",
       "      <td>59</td>\n",
       "      <td>1345</td>\n",
       "      <td>58</td>\n",
       "    </tr>\n",
       "    <tr>\n",
       "      <th>2</th>\n",
       "      <td>1985</td>\n",
       "      <td>136</td>\n",
       "      <td>1207</td>\n",
       "      <td>68</td>\n",
       "      <td>1250</td>\n",
       "      <td>43</td>\n",
       "    </tr>\n",
       "  </tbody>\n",
       "</table>"
      ],
      "text/plain": [
       "<IPython.core.display.HTML object>"
      ]
     },
     "execution_count": 12,
     "metadata": {},
     "output_type": "execute_result"
    }
   ],
   "source": [
    "mm = pd.read_csv(\"./data/march_madness.csv\")\n",
    "HTML(mm.head(3).to_html(classes=\"table table-responsive table-striped table-bordered\"))"
   ]
  },
  {
   "cell_type": "markdown",
   "metadata": {},
   "source": [
    "From the march madness data:\n",
    "<ul>\n",
    "<li> 1985 to 2017 data about game logs for NCAA tournament </li>\n",
    "<li> scores, winning team & losing team </li>\n",
    "<li> use 1985 -> 2017 data to predict 2018 </li>\n",
    "<li> day 134, 135 are for first four, associated with 'a', 'b' seeds, they play to finalize seeding for final 64 </li>\n",
    "<li> e.g. 11 Wake Forest 88, 11 Kansas State 95 </li>\n",
    "<li> first day of round of 64 is 136 </li>\n",
    "<li> last game is 154, which is the national champion </li>\n",
    "<li> e.g. UNC beat Gonzaga on Day 154 in 2017 </li>\n",
    "<li> Let's drop 1985->2002 data, since I don't have regular season, seed or conference information for those years. </li>\n",
    "</ul>"
   ]
  },
  {
   "cell_type": "code",
   "execution_count": 13,
   "metadata": {},
   "outputs": [
    {
     "data": {
      "text/html": [
       "<table border=\"1\" class=\"dataframe table table-responsive table-striped table-bordered\">\n",
       "  <thead>\n",
       "    <tr style=\"text-align: right;\">\n",
       "      <th></th>\n",
       "      <th>season</th>\n",
       "      <th>seed</th>\n",
       "      <th>team_id</th>\n",
       "    </tr>\n",
       "  </thead>\n",
       "  <tbody>\n",
       "    <tr>\n",
       "      <th>0</th>\n",
       "      <td>2003</td>\n",
       "      <td>W01</td>\n",
       "      <td>1328</td>\n",
       "    </tr>\n",
       "    <tr>\n",
       "      <th>1</th>\n",
       "      <td>2003</td>\n",
       "      <td>W02</td>\n",
       "      <td>1448</td>\n",
       "    </tr>\n",
       "    <tr>\n",
       "      <th>2</th>\n",
       "      <td>2003</td>\n",
       "      <td>W03</td>\n",
       "      <td>1393</td>\n",
       "    </tr>\n",
       "  </tbody>\n",
       "</table>"
      ],
      "text/plain": [
       "<IPython.core.display.HTML object>"
      ]
     },
     "execution_count": 13,
     "metadata": {},
     "output_type": "execute_result"
    }
   ],
   "source": [
    "mm = mm[mm[\"season\"]>=2003]\n",
    "seeds = pd.read_csv(\"./data/march_madness_seeds.csv\")\n",
    "HTML(seeds.head(3).to_html(classes=\"table table-responsive table-striped table-bordered\"))"
   ]
  },
  {
   "cell_type": "markdown",
   "metadata": {},
   "source": [
    "* seed information from 2003 to 2018\n",
    "* there are 68 seeds\n",
    "* Starting in 2011, NCAA tournament starts with 68 teams (e.g. 68 seeds), then dwindles down to 64.\n",
    "* 8 lowest seeded teams play in the ‘first four’, and then the winners, come out to be apart of the 64.\n",
    "* merge to use seed as a variable, join on team_id\n",
    "* seed needs to be an int; let's remove the region, it doesn't really matter, what we care about are the raw seeds, treat Y16a and Y16b as 16"
   ]
  },
  {
   "cell_type": "code",
   "execution_count": 14,
   "metadata": {},
   "outputs": [],
   "source": [
    "seeds[\"seed\"] = seeds[\"seed\"].apply(lambda x: int(x[1:3]))"
   ]
  },
  {
   "cell_type": "code",
   "execution_count": 15,
   "metadata": {},
   "outputs": [
    {
     "data": {
      "text/html": [
       "<table border=\"1\" class=\"dataframe table table-responsive table-striped table-bordered\">\n",
       "  <thead>\n",
       "    <tr style=\"text-align: right;\">\n",
       "      <th></th>\n",
       "      <th>season</th>\n",
       "      <th>seed</th>\n",
       "      <th>team_id</th>\n",
       "      <th>team_name</th>\n",
       "      <th>conference_code</th>\n",
       "      <th>conference_name</th>\n",
       "    </tr>\n",
       "  </thead>\n",
       "  <tbody>\n",
       "    <tr>\n",
       "      <th>0</th>\n",
       "      <td>2003</td>\n",
       "      <td>1</td>\n",
       "      <td>1328</td>\n",
       "      <td>Oklahoma</td>\n",
       "      <td>big_twelve</td>\n",
       "      <td>Big 12 Conference</td>\n",
       "    </tr>\n",
       "    <tr>\n",
       "      <th>22</th>\n",
       "      <td>2003</td>\n",
       "      <td>2</td>\n",
       "      <td>1448</td>\n",
       "      <td>Wake Forest</td>\n",
       "      <td>acc</td>\n",
       "      <td>Atlantic Coast Conference</td>\n",
       "    </tr>\n",
       "    <tr>\n",
       "      <th>56</th>\n",
       "      <td>2003</td>\n",
       "      <td>3</td>\n",
       "      <td>1393</td>\n",
       "      <td>Syracuse</td>\n",
       "      <td>big_east</td>\n",
       "      <td>Big East Conference</td>\n",
       "    </tr>\n",
       "  </tbody>\n",
       "</table>"
      ],
      "text/plain": [
       "<IPython.core.display.HTML object>"
      ]
     },
     "execution_count": 15,
     "metadata": {},
     "output_type": "execute_result"
    }
   ],
   "source": [
    "seed_and_names = pd.merge(seeds, teams, how=\"left\", on=[\"season\",\"team_id\"]).drop_duplicates()\n",
    "HTML(seed_and_names.head(3).to_html(classes=\"table table-responsive table-striped table-bordered\"))"
   ]
  },
  {
   "cell_type": "markdown",
   "metadata": {},
   "source": [
    "* I need a label to indicate if the team is in the Final Four\n",
    "* e.g. in 2017, the Final Four were Gonzaga, South Carolina, Oregon and North Carolina\n",
    "* 1211, 1376, 1322, 1314 respectively\n",
    "* So, we can see that on day 154, the national championship game was played, and the winner was North Carolina\n",
    "* Moreover, the final four teams are North Carolina vs Oregon, and Gonzaga vs South Carolina\n",
    "* These correspond to games played on 152"
   ]
  },
  {
   "cell_type": "code",
   "execution_count": 16,
   "metadata": {},
   "outputs": [
    {
     "data": {
      "text/html": [
       "<table border=\"1\" class=\"dataframe table table-responsive table-striped table-bordered\">\n",
       "  <thead>\n",
       "    <tr style=\"text-align: right;\">\n",
       "      <th></th>\n",
       "      <th>season</th>\n",
       "      <th>day_in_season</th>\n",
       "      <th>winning_team_id</th>\n",
       "      <th>winning_team_score</th>\n",
       "      <th>losing_team_id</th>\n",
       "      <th>losing_team_score</th>\n",
       "    </tr>\n",
       "  </thead>\n",
       "  <tbody>\n",
       "    <tr>\n",
       "      <th>2112</th>\n",
       "      <td>2017</td>\n",
       "      <td>146</td>\n",
       "      <td>1314</td>\n",
       "      <td>75</td>\n",
       "      <td>1246</td>\n",
       "      <td>73</td>\n",
       "    </tr>\n",
       "    <tr>\n",
       "      <th>2113</th>\n",
       "      <td>2017</td>\n",
       "      <td>146</td>\n",
       "      <td>1376</td>\n",
       "      <td>77</td>\n",
       "      <td>1196</td>\n",
       "      <td>70</td>\n",
       "    </tr>\n",
       "    <tr>\n",
       "      <th>2114</th>\n",
       "      <td>2017</td>\n",
       "      <td>152</td>\n",
       "      <td>1211</td>\n",
       "      <td>77</td>\n",
       "      <td>1376</td>\n",
       "      <td>73</td>\n",
       "    </tr>\n",
       "    <tr>\n",
       "      <th>2115</th>\n",
       "      <td>2017</td>\n",
       "      <td>152</td>\n",
       "      <td>1314</td>\n",
       "      <td>77</td>\n",
       "      <td>1332</td>\n",
       "      <td>76</td>\n",
       "    </tr>\n",
       "    <tr>\n",
       "      <th>2116</th>\n",
       "      <td>2017</td>\n",
       "      <td>154</td>\n",
       "      <td>1314</td>\n",
       "      <td>71</td>\n",
       "      <td>1211</td>\n",
       "      <td>65</td>\n",
       "    </tr>\n",
       "  </tbody>\n",
       "</table>"
      ],
      "text/plain": [
       "<IPython.core.display.HTML object>"
      ]
     },
     "execution_count": 16,
     "metadata": {},
     "output_type": "execute_result"
    }
   ],
   "source": [
    "HTML(mm[mm[\"season\"]==2017].tail().to_html(classes=\"table table-responsive table-striped table-bordered\"))"
   ]
  },
  {
   "cell_type": "markdown",
   "metadata": {},
   "source": [
    "We can see the championship game was also played on 154, final four played on 152! \n",
    "Perfect, now we can flag all of these teams as final four = 1\n",
    "\n",
    "We'll query the winning_team_id and losing_team_id for each of those games to get the final four teams"
   ]
  },
  {
   "cell_type": "code",
   "execution_count": 17,
   "metadata": {},
   "outputs": [],
   "source": [
    "# 15 seasons, we should get 2*15 = 30 final four games\n",
    "mm[\"final_four\"]=mm[\"day_in_season\"].apply(lambda x: 1 if x == 152 else 0)"
   ]
  },
  {
   "cell_type": "markdown",
   "metadata": {},
   "source": [
    "---\n",
    "## Define X and y"
   ]
  },
  {
   "cell_type": "markdown",
   "metadata": {},
   "source": [
    "Let's define X and y so we can more easily perform EDA, feature engineering and modeling.\n",
    "First, we'll need a target vector y, with all the teams in each season and whether or not\n",
    "they made it to the Final Four.\n",
    "\n",
    "Let's work off the seeds_and_names data frame, as those are all of our 996 participating colleges for each season."
   ]
  },
  {
   "cell_type": "code",
   "execution_count": 18,
   "metadata": {},
   "outputs": [],
   "source": [
    "seed_and_names[\"final_four\"]=np.zeros(len(seed_and_names)) # zeros\n",
    "\n",
    "final_four_list = (list(zip(mm.query(\"final_four==1\").season,mm.query(\"final_four==1\").winning_team_id))+\n",
    "     list(zip(mm.query(\"final_four==1\").season,mm.query(\"final_four==1\").losing_team_id)))\n",
    "\n",
    "# fill in teams with 1 if final_four team\n",
    "for season, team_id in final_four_list:\n",
    "    seed_and_names[\"final_four\"]+=np.where((seed_and_names.season==season) & (seed_and_names.team_id==team_id),1,0)"
   ]
  },
  {
   "cell_type": "code",
   "execution_count": 19,
   "metadata": {},
   "outputs": [
    {
     "data": {
      "text/html": [
       "<table border=\"1\" class=\"dataframe table table-responsive table-striped table-bordered\">\n",
       "  <thead>\n",
       "    <tr style=\"text-align: right;\">\n",
       "      <th></th>\n",
       "      <th>season</th>\n",
       "      <th>seed</th>\n",
       "      <th>team_id</th>\n",
       "      <th>team_name</th>\n",
       "      <th>conference_code</th>\n",
       "      <th>conference_name</th>\n",
       "      <th>final_four</th>\n",
       "    </tr>\n",
       "  </thead>\n",
       "  <tbody>\n",
       "    <tr>\n",
       "      <th>23045</th>\n",
       "      <td>2017</td>\n",
       "      <td>7</td>\n",
       "      <td>1376</td>\n",
       "      <td>South Carolina</td>\n",
       "      <td>sec</td>\n",
       "      <td>Southeastern Conference</td>\n",
       "      <td>1.00</td>\n",
       "    </tr>\n",
       "    <tr>\n",
       "      <th>23292</th>\n",
       "      <td>2017</td>\n",
       "      <td>1</td>\n",
       "      <td>1211</td>\n",
       "      <td>Gonzaga</td>\n",
       "      <td>wcc</td>\n",
       "      <td>West Coast Conference</td>\n",
       "      <td>1.00</td>\n",
       "    </tr>\n",
       "    <tr>\n",
       "      <th>23604</th>\n",
       "      <td>2017</td>\n",
       "      <td>3</td>\n",
       "      <td>1332</td>\n",
       "      <td>Oregon</td>\n",
       "      <td>pac_twelve</td>\n",
       "      <td>Pacific-12 Conference</td>\n",
       "      <td>1.00</td>\n",
       "    </tr>\n",
       "    <tr>\n",
       "      <th>23905</th>\n",
       "      <td>2017</td>\n",
       "      <td>1</td>\n",
       "      <td>1314</td>\n",
       "      <td>North Carolina</td>\n",
       "      <td>acc</td>\n",
       "      <td>Atlantic Coast Conference</td>\n",
       "      <td>1.00</td>\n",
       "    </tr>\n",
       "  </tbody>\n",
       "</table>"
      ],
      "text/plain": [
       "<IPython.core.display.HTML object>"
      ]
     },
     "execution_count": 19,
     "metadata": {},
     "output_type": "execute_result"
    }
   ],
   "source": [
    "HTML(seed_and_names.query(\"final_four==1 & season==2017\").to_html(classes=\"table table-responsive table-striped table-bordered\"))"
   ]
  },
  {
   "cell_type": "markdown",
   "metadata": {},
   "source": [
    "Great, now we have a final_four which will be our target y. Now we have to aggregate the stats for each\n",
    "team, over all the 76636 games played.\n",
    "\n",
    "e.g. for South Carolina, we now need the following aggregated stats for, points for, points against, etc.\n",
    "Aggregating opponents stats so we have a sense of offensive and defensive ability because\n",
    "defense wins champions!"
   ]
  },
  {
   "cell_type": "markdown",
   "metadata": {},
   "source": [
    "* For each time a a specific team won, sum up all of their points\n",
    "* For each time a specific team lost, sum of all of their points\n",
    "* Sum up points from won and lost games\n",
    "* Repeat for all the variables of interest"
   ]
  },
  {
   "cell_type": "code",
   "execution_count": 20,
   "metadata": {},
   "outputs": [],
   "source": [
    "def stat_for(seed_and_names,stat,name):\n",
    "    df_w = regular.pivot_table(index=\"winning_team_id\", columns=\"season\", values=f'winning_team_{stat}', aggfunc=np.sum)\n",
    "    df_l = regular.pivot_table(index=\"losing_team_id\", columns=\"season\", values=f'losing_team_{stat}', aggfunc=np.sum)\n",
    "    df_for = df_w + df_l \n",
    "    df_for.reset_index(inplace=True)\n",
    "    df_for_melt = df_for.melt(id_vars=[\"winning_team_id\"])\n",
    "    df_for_melt.columns=[\"team_id\", \"season\",name]\n",
    "    return pd.merge(seed_and_names, df_for_melt, how=\"left\", on=[\"season\",\"team_id\"])\n",
    "\n",
    "seed_and_names = stat_for(seed_and_names,'score','points_for')\n",
    "seed_and_names = stat_for(seed_and_names,'field_goals','fg_for')\n",
    "seed_and_names = stat_for(seed_and_names,'field_goals_attempted','fga_for')\n",
    "seed_and_names = stat_for(seed_and_names,'three_points','3pm_for')\n",
    "seed_and_names = stat_for(seed_and_names,'three_points_attempted','3pa_for')\n",
    "seed_and_names = stat_for(seed_and_names,'free_throws','ft_for')\n",
    "seed_and_names = stat_for(seed_and_names,'free_throws_attempted','fta_for')\n",
    "seed_and_names = stat_for(seed_and_names,'offensive_rebounds','off_rebounds_for')\n",
    "seed_and_names = stat_for(seed_and_names,'defensive_rebounds','def_rebounds_for')\n",
    "seed_and_names = stat_for(seed_and_names,'assists','assists_for')\n",
    "seed_and_names = stat_for(seed_and_names,'steals','steals_for')\n",
    "seed_and_names = stat_for(seed_and_names,'blocks','blocks_for')\n",
    "seed_and_names = stat_for(seed_and_names,'turnovers','turnovers_for')\n",
    "seed_and_names = stat_for(seed_and_names,'personal_fouls','fouls_for')"
   ]
  },
  {
   "cell_type": "code",
   "execution_count": 21,
   "metadata": {},
   "outputs": [],
   "source": [
    "def stat_against(seed_and_names,stat,name):\n",
    "    df_w = regular.pivot_table(index=\"winning_team_id\", columns=\"season\", values=f'losing_team_{stat}', aggfunc=np.sum)\n",
    "    df_l = regular.pivot_table(index=\"losing_team_id\", columns=\"season\", values=f'winning_team_{stat}', aggfunc=np.sum)\n",
    "    df_for = df_w + df_l \n",
    "    df_for.reset_index(inplace=True)\n",
    "    df_for_melt = df_for.melt(id_vars=[\"winning_team_id\"])\n",
    "    df_for_melt.columns=[\"team_id\", \"season\",name]\n",
    "    return pd.merge(seed_and_names, df_for_melt, how=\"left\", on=[\"season\",\"team_id\"])\n",
    "\n",
    "seed_and_names = stat_against(seed_and_names,'score','points_against')\n",
    "seed_and_names = stat_against(seed_and_names,'field_goals','fg_against')\n",
    "seed_and_names = stat_against(seed_and_names,'field_goals_attempted','fga_against')\n",
    "seed_and_names = stat_against(seed_and_names,'three_points','3pm_against')\n",
    "seed_and_names = stat_against(seed_and_names,'three_points_attempted','3pa_against')\n",
    "seed_and_names = stat_against(seed_and_names,'free_throws','ft_against')\n",
    "seed_and_names = stat_against(seed_and_names,'free_throws_attempted','fta_against')\n",
    "seed_and_names = stat_against(seed_and_names,'offensive_rebounds','off_rebounds_against')\n",
    "seed_and_names = stat_against(seed_and_names,'defensive_rebounds','def_rebounds_against')\n",
    "seed_and_names = stat_against(seed_and_names,'assists','assists_against')\n",
    "seed_and_names = stat_against(seed_and_names,'steals','steals_against')\n",
    "seed_and_names = stat_against(seed_and_names,'blocks','blocks_against')\n",
    "seed_and_names = stat_against(seed_and_names,'turnovers','turnovers_against')\n",
    "seed_and_names = stat_against(seed_and_names,'personal_fouls','fouls_against')"
   ]
  },
  {
   "cell_type": "code",
   "execution_count": 22,
   "metadata": {},
   "outputs": [],
   "source": [
    "regular_season_total = seed_and_names.reset_index().drop(columns=[\"index\"])"
   ]
  },
  {
   "cell_type": "markdown",
   "metadata": {},
   "source": [
    "---\n",
    "## Train Test Split\n",
    "\n",
    "\n",
    "* As always, let's train test split (80% / 20%). Given it's time series we will split on years.\n",
    "* There are 15 years of data, so we'll train on 12 years and test on the final 3 years (2015, 2016, 2017)"
   ]
  },
  {
   "cell_type": "code",
   "execution_count": 23,
   "metadata": {},
   "outputs": [],
   "source": [
    "y_test = regular_season_total[regular_season_total[\"season\"]>=2015][\"final_four\"]\n",
    "y_train = regular_season_total[regular_season_total[\"season\"]<2015][\"final_four\"]"
   ]
  },
  {
   "cell_type": "markdown",
   "metadata": {},
   "source": [
    "Note, I ran into error with Wichita St. since they were undefeated, so we need avoid indexing issues by imputing with 0."
   ]
  },
  {
   "cell_type": "code",
   "execution_count": 24,
   "metadata": {},
   "outputs": [],
   "source": [
    "regular_season_total.fillna(0,inplace=True)\n",
    "X = regular_season_total[['season', 'seed', 'team_id', 'team_name', 'conference_code', 'points_for', 'points_against', 'fg_for', 'fg_against',\n",
    "                '3pm_for', '3pm_against', 'fga_for', 'fga_against', '3pa_for',\n",
    "                '3pa_against', 'ft_for', 'ft_against', 'fta_for', 'fta_against',\n",
    "                'off_rebounds_for', 'off_rebounds_against', 'def_rebounds_for',\n",
    "                'def_rebounds_against', 'assists_for', 'assists_against', 'steals_for',\n",
    "                'steals_against', 'blocks_for', 'blocks_against', 'turnovers_for',\n",
    "                'turnovers_against', 'fouls_for', 'fouls_against']]"
   ]
  },
  {
   "cell_type": "code",
   "execution_count": 25,
   "metadata": {},
   "outputs": [],
   "source": [
    "X_train = X.query(\"season<2015\")\n",
    "X_test = X.query(\"season>=2015\")"
   ]
  },
  {
   "cell_type": "markdown",
   "metadata": {},
   "source": [
    "---\n",
    "## Imputation\n",
    "* Data is pretty complete and in the right type which is great. We'll just need to create multi class labels, such that we can identify which conferences a team is in, as I suspect that some teams play in more competitive conferences than others.\n",
    "* Let's label qualitative variables.\n",
    "* We'll standardize after splitting."
   ]
  },
  {
   "cell_type": "code",
   "execution_count": 26,
   "metadata": {},
   "outputs": [],
   "source": [
    "mapper = DataFrameMapper([\n",
    "    (['season'],None),\n",
    "    (['seed'],None),\n",
    "    (['team_id'],None),\n",
    "    (['conference_code'],LabelBinarizer()),    \n",
    "    (['points_for'],None),\n",
    "    (['points_against'],None),\n",
    "    (['fg_for'],None),\n",
    "    (['fg_against'],None),\n",
    "    (['3pm_for'],None), \n",
    "    (['3pm_against'],None), \n",
    "    (['fga_for'],None),\n",
    "    (['fga_against'],None),\n",
    "    (['3pa_for'],None), \n",
    "    (['3pa_against'],None),\n",
    "    (['ft_for'],None),  \n",
    "    (['ft_against'],None),\n",
    "    (['fta_for'],None),\n",
    "    (['fta_against'],None),\n",
    "    (['off_rebounds_for'],None),\n",
    "    (['off_rebounds_against'],None),\n",
    "    (['def_rebounds_for'],None),\n",
    "    (['def_rebounds_against'],None),\n",
    "    (['assists_for'],None),\n",
    "    (['assists_against'],None),\n",
    "    (['steals_for'],None),\n",
    "    (['steals_against'],None),\n",
    "    (['blocks_for'],None),\n",
    "    (['blocks_against'],None),\n",
    "    (['turnovers_for'],None),\n",
    "    (['turnovers_against'],None),\n",
    "    (['fouls_for'],None),\n",
    "    (['fouls_against'],None)\n",
    "],df_out=True)"
   ]
  },
  {
   "cell_type": "code",
   "execution_count": 27,
   "metadata": {},
   "outputs": [],
   "source": [
    "Z_train = mapper.fit_transform(X_train)\n",
    "Z_test = mapper.transform(X_test) \n",
    "# Remember, you never want to fit because if you see something you never saw before (e.g. emoji)\n",
    "# then it will be 'labelbinarized', when it fact it should be treated as something diff instead"
   ]
  },
  {
   "cell_type": "code",
   "execution_count": 28,
   "metadata": {},
   "outputs": [],
   "source": [
    "# Fix shape problems\n",
    "# list(zip(Z_train.columns,Z_test.columns)) # there are less conferences in 2015 -> 2018\n",
    "# mid_cont, pac_ten are in Z_train but not in Z_test"
   ]
  },
  {
   "cell_type": "code",
   "execution_count": 29,
   "metadata": {},
   "outputs": [
    {
     "data": {
      "text/html": [
       "<table border=\"1\" class=\"dataframe table table-responsive table-striped table-bordered\">\n",
       "  <thead>\n",
       "    <tr style=\"text-align: right;\">\n",
       "      <th></th>\n",
       "      <th>season</th>\n",
       "      <th>team_id</th>\n",
       "      <th>team_name</th>\n",
       "      <th>conference_code</th>\n",
       "      <th>conference_name</th>\n",
       "    </tr>\n",
       "  </thead>\n",
       "  <tbody>\n",
       "    <tr>\n",
       "      <th>14628</th>\n",
       "      <td>2004</td>\n",
       "      <td>1147</td>\n",
       "      <td>Centenary</td>\n",
       "      <td>mid_cont</td>\n",
       "      <td>Mid-Continent Conference</td>\n",
       "    </tr>\n",
       "    <tr>\n",
       "      <th>14629</th>\n",
       "      <td>2005</td>\n",
       "      <td>1147</td>\n",
       "      <td>Centenary</td>\n",
       "      <td>mid_cont</td>\n",
       "      <td>Mid-Continent Conference</td>\n",
       "    </tr>\n",
       "    <tr>\n",
       "      <th>14630</th>\n",
       "      <td>2006</td>\n",
       "      <td>1147</td>\n",
       "      <td>Centenary</td>\n",
       "      <td>mid_cont</td>\n",
       "      <td>Mid-Continent Conference</td>\n",
       "    </tr>\n",
       "    <tr>\n",
       "      <th>14631</th>\n",
       "      <td>2007</td>\n",
       "      <td>1147</td>\n",
       "      <td>Centenary</td>\n",
       "      <td>mid_cont</td>\n",
       "      <td>Mid-Continent Conference</td>\n",
       "    </tr>\n",
       "    <tr>\n",
       "      <th>16279</th>\n",
       "      <td>2003</td>\n",
       "      <td>1152</td>\n",
       "      <td>Chicago St</td>\n",
       "      <td>mid_cont</td>\n",
       "      <td>Mid-Continent Conference</td>\n",
       "    </tr>\n",
       "  </tbody>\n",
       "</table>"
      ],
      "text/plain": [
       "<IPython.core.display.HTML object>"
      ]
     },
     "execution_count": 29,
     "metadata": {},
     "output_type": "execute_result"
    }
   ],
   "source": [
    "HTML(teams[teams[\"conference_code\"]==\"mid_cont\"].drop_duplicates(subset=\"season\").to_html(classes=\"table table-responsive table-striped table-bordered\"))\n",
    "# mid_cont only occured 2004->2007\n",
    "# Chicago moved from mid_cont to gwc in 2010"
   ]
  },
  {
   "cell_type": "code",
   "execution_count": 30,
   "metadata": {},
   "outputs": [
    {
     "data": {
      "text/html": [
       "<table border=\"1\" class=\"dataframe table table-responsive table-striped table-bordered\">\n",
       "  <thead>\n",
       "    <tr style=\"text-align: right;\">\n",
       "      <th></th>\n",
       "      <th>season</th>\n",
       "      <th>team_id</th>\n",
       "      <th>team_name</th>\n",
       "      <th>conference_code</th>\n",
       "      <th>conference_name</th>\n",
       "    </tr>\n",
       "  </thead>\n",
       "  <tbody>\n",
       "    <tr>\n",
       "      <th>3601</th>\n",
       "      <td>2003</td>\n",
       "      <td>1112</td>\n",
       "      <td>Arizona</td>\n",
       "      <td>pac_ten</td>\n",
       "      <td>Pacific-10 Conference</td>\n",
       "    </tr>\n",
       "    <tr>\n",
       "      <th>3602</th>\n",
       "      <td>2004</td>\n",
       "      <td>1112</td>\n",
       "      <td>Arizona</td>\n",
       "      <td>pac_ten</td>\n",
       "      <td>Pacific-10 Conference</td>\n",
       "    </tr>\n",
       "    <tr>\n",
       "      <th>3603</th>\n",
       "      <td>2005</td>\n",
       "      <td>1112</td>\n",
       "      <td>Arizona</td>\n",
       "      <td>pac_ten</td>\n",
       "      <td>Pacific-10 Conference</td>\n",
       "    </tr>\n",
       "    <tr>\n",
       "      <th>3604</th>\n",
       "      <td>2006</td>\n",
       "      <td>1112</td>\n",
       "      <td>Arizona</td>\n",
       "      <td>pac_ten</td>\n",
       "      <td>Pacific-10 Conference</td>\n",
       "    </tr>\n",
       "    <tr>\n",
       "      <th>3605</th>\n",
       "      <td>2007</td>\n",
       "      <td>1112</td>\n",
       "      <td>Arizona</td>\n",
       "      <td>pac_ten</td>\n",
       "      <td>Pacific-10 Conference</td>\n",
       "    </tr>\n",
       "    <tr>\n",
       "      <th>3606</th>\n",
       "      <td>2008</td>\n",
       "      <td>1112</td>\n",
       "      <td>Arizona</td>\n",
       "      <td>pac_ten</td>\n",
       "      <td>Pacific-10 Conference</td>\n",
       "    </tr>\n",
       "    <tr>\n",
       "      <th>3607</th>\n",
       "      <td>2009</td>\n",
       "      <td>1112</td>\n",
       "      <td>Arizona</td>\n",
       "      <td>pac_ten</td>\n",
       "      <td>Pacific-10 Conference</td>\n",
       "    </tr>\n",
       "    <tr>\n",
       "      <th>3608</th>\n",
       "      <td>2010</td>\n",
       "      <td>1112</td>\n",
       "      <td>Arizona</td>\n",
       "      <td>pac_ten</td>\n",
       "      <td>Pacific-10 Conference</td>\n",
       "    </tr>\n",
       "    <tr>\n",
       "      <th>3609</th>\n",
       "      <td>2011</td>\n",
       "      <td>1112</td>\n",
       "      <td>Arizona</td>\n",
       "      <td>pac_ten</td>\n",
       "      <td>Pacific-10 Conference</td>\n",
       "    </tr>\n",
       "  </tbody>\n",
       "</table>"
      ],
      "text/plain": [
       "<IPython.core.display.HTML object>"
      ]
     },
     "execution_count": 30,
     "metadata": {},
     "output_type": "execute_result"
    }
   ],
   "source": [
    "HTML(teams[teams[\"conference_code\"]==\"pac_ten\"].drop_duplicates(subset=\"season\").to_html(classes=\"table table-responsive table-striped table-bordered\"))\n",
    "# only occured 2003->2011;\n",
    "# in 2012, Arizona played in pac_twelve"
   ]
  },
  {
   "cell_type": "code",
   "execution_count": 31,
   "metadata": {},
   "outputs": [],
   "source": [
    "# let's be more verbose and label mid_cont in pac_ten columns in test, with 0 so they're the same shape\n",
    "Z_test[\"conference_code_pac_ten\"] = pd.DataFrame(np.zeros((Z_test.shape[0],1)))\n",
    "Z_test[\"conference_code_mid_cont\"] = pd.DataFrame(np.zeros((Z_test.shape[0],1)))\n",
    "\n",
    "# Showing up as NaN -> need to make zero\n",
    "Z_test[\"conference_code_pac_ten\"].fillna(0,inplace=True)\n",
    "Z_test[\"conference_code_mid_cont\"].fillna(0,inplace=True)"
   ]
  },
  {
   "cell_type": "markdown",
   "metadata": {},
   "source": [
    "---\n",
    "## Establish Benchmarks\n",
    "Let's quickly spin up a naive baseline/benchmark model & naive out the door. Then, in subsequent steps, we can feature engineering and model to improve our score!\n",
    "\n",
    "From FiveThirtyEight, 1 seeds only had a 35%-52% of reaching the final four.\n",
    "\n",
    "<img src=\"./images/ncaa.png\"  width=\"620\" height=\"120\">\n",
    "\n",
    "\n",
    "Let's see how how our naive model's prediction fared."
   ]
  },
  {
   "cell_type": "code",
   "execution_count": 32,
   "metadata": {},
   "outputs": [
    {
     "name": "stdout",
     "output_type": "stream",
     "text": [
      "Number of teams making it to final four: 18.0\n",
      " Logreg train accuracy: 0.9444444444444444\n",
      " Logreg test accuracy: 0.9558823529411765\n"
     ]
    }
   ],
   "source": [
    "# Baseline logistic \n",
    "\n",
    "# Step 1: Instantiate our model.\n",
    "logreg_baseline = LogisticRegression(random_state=8)\n",
    "\n",
    "# Step 2: Fit our model.\n",
    "logreg_baseline.fit(Z_train,y_train)\n",
    "\n",
    "# Step 3 (part 1): Generate prediction values\n",
    "print(f'Number of teams making it to final four: {sum(logreg_baseline.predict(Z_train))}')\n",
    "\n",
    "# Step 3 (part 2): Generate predictions/probabilities\n",
    "logreg_baseline.predict_proba(Z_train)[:,1]\n",
    "\n",
    "# Step 4: Score the model:\n",
    "print(f' Logreg train accuracy: {logreg_baseline.score(Z_train,y_train)}')\n",
    "print(f' Logreg test accuracy: {logreg_baseline.score(Z_test,y_test)}')"
   ]
  },
  {
   "cell_type": "markdown",
   "metadata": {},
   "source": [
    "---\n",
    "### Imbalanced Classes\n",
    "\n",
    "* Accuracy of 94% looks good right? However, we have imbalanced classes.\n",
    "* Over 15 years, 60 final four teams, 936 non-final four, 996 total.\n",
    "* 1-60/996 = 94%\n",
    "* Any naive model would be equally as good as this baseline logistic regression, by simply taking the accuracy mean.\n",
    "* This is a misleading accuracy as it's overestimated. Let's quickly spin up a AUC score to score the accuracy of this logistic classifier, and measure this imbalance."
   ]
  },
  {
   "cell_type": "code",
   "execution_count": 33,
   "metadata": {},
   "outputs": [
    {
     "data": {
      "text/plain": [
       "0.7300347222222222"
      ]
     },
     "execution_count": 33,
     "metadata": {},
     "output_type": "execute_result"
    }
   ],
   "source": [
    "roc_auc_score(y_test, logreg_baseline.predict_proba(Z_test)[:,1])"
   ]
  },
  {
   "cell_type": "markdown",
   "metadata": {},
   "source": [
    "Since 73% > 50%, the AUC tells us that this classifier is better than a no better than a 'no information' classifer. However there may be room for improvement. \n",
    "\n",
    "To get a better evaluation of our baseline model, let's better represent the minority class (final four)\n",
    "with more signal, via over sampling, i.e. randomly sampling with replacement from available samples. I prefer this over SMOTE (Synthetic) because I would like to keep track of the number of games played, and to also keep the years and seeds an int."
   ]
  },
  {
   "cell_type": "code",
   "execution_count": 34,
   "metadata": {},
   "outputs": [],
   "source": [
    "# I added final_four to this mapper so I can split after, preserve order rather than randomly splitting\n",
    "mapper_all = DataFrameMapper([\n",
    "    (['season'], None),\n",
    "    (['seed'], None),\n",
    "    (['team_id'], None),\n",
    "    (['conference_code'], LabelBinarizer()),    \n",
    "    (['final_four'],None),\n",
    "    (['points_for'],None),\n",
    "    (['points_against'],None),\n",
    "    (['fg_for'],None),\n",
    "    (['fg_against'],None),\n",
    "    (['3pm_for'],None), \n",
    "    (['3pm_against'],None), \n",
    "    (['fga_for'],None),\n",
    "    (['fga_against'],None),\n",
    "    (['3pa_for'],None), \n",
    "    (['3pa_against'],None),\n",
    "    (['ft_for'],None),  \n",
    "    (['ft_against'],None),\n",
    "    (['fta_for'],None),\n",
    "    (['fta_against'],None),\n",
    "    (['off_rebounds_for'],None),\n",
    "    (['off_rebounds_against'],None),\n",
    "    (['def_rebounds_for'],None),\n",
    "    (['def_rebounds_against'],None),\n",
    "    (['assists_for'],None),\n",
    "    (['assists_against'],None),\n",
    "    (['steals_for'],None),\n",
    "    (['steals_against'],None),\n",
    "    (['blocks_for'],None),\n",
    "    (['blocks_against'],None),\n",
    "    (['turnovers_for'],None),\n",
    "    (['turnovers_against'],None),\n",
    "    (['fouls_for'],None),\n",
    "    (['fouls_against'],None)\n",
    "],df_out=True)"
   ]
  },
  {
   "cell_type": "code",
   "execution_count": 35,
   "metadata": {
    "scrolled": false
   },
   "outputs": [
    {
     "name": "stdout",
     "output_type": "stream",
     "text": [
      "(1872, 65)\n",
      "(1872,)\n",
      "936.0\n"
     ]
    }
   ],
   "source": [
    "Z = mapper_all.fit_transform(regular_season_total)\n",
    "y = Z[\"final_four\"]\n",
    "X = Z[['season', 'seed', 'team_id', 'conference_code_a_sun',\n",
    "       'conference_code_a_ten', 'conference_code_aac', 'conference_code_acc',\n",
    "       'conference_code_aec', 'conference_code_big_east',\n",
    "       'conference_code_big_sky', 'conference_code_big_south',\n",
    "       'conference_code_big_ten', 'conference_code_big_twelve',\n",
    "       'conference_code_big_west', 'conference_code_caa',\n",
    "       'conference_code_cusa', 'conference_code_horizon',\n",
    "       'conference_code_ivy', 'conference_code_maac', 'conference_code_mac',\n",
    "       'conference_code_meac', 'conference_code_mid_cont',\n",
    "       'conference_code_mvc', 'conference_code_mwc', 'conference_code_nec',\n",
    "       'conference_code_ovc', 'conference_code_pac_ten',\n",
    "       'conference_code_pac_twelve', 'conference_code_patriot',\n",
    "       'conference_code_sec', 'conference_code_southern',\n",
    "       'conference_code_southland', 'conference_code_summit',\n",
    "       'conference_code_sun_belt', 'conference_code_swac',\n",
    "       'conference_code_wac', 'conference_code_wcc',\n",
    "       'points_for', 'points_against', 'fg_for', 'fg_against', '3pm_for',\n",
    "       '3pm_against', 'fga_for', 'fga_against', '3pa_for', '3pa_against',\n",
    "       'ft_for', 'ft_against', 'fta_for', 'fta_against', 'off_rebounds_for',\n",
    "       'off_rebounds_against', 'def_rebounds_for', 'def_rebounds_against',\n",
    "       'assists_for', 'assists_against', 'steals_for', 'steals_against',\n",
    "       'blocks_for', 'blocks_against', 'turnovers_for', 'turnovers_against',\n",
    "       'fouls_for', 'fouls_against']]\n",
    "\n",
    "random_sampler = RandomOverSampler(random_state=8)\n",
    "\n",
    "X_resampled, y_resampled = random_sampler.fit_resample(X, y)\n",
    "print(X_resampled.shape) \n",
    "print(y_resampled.shape) # there are 936 final four rows and 936 non-final four\n",
    "print(sum(y_resampled))"
   ]
  },
  {
   "cell_type": "markdown",
   "metadata": {},
   "source": [
    "Let's recalculate accuracy and AUC"
   ]
  },
  {
   "cell_type": "code",
   "execution_count": 36,
   "metadata": {},
   "outputs": [],
   "source": [
    "df = pd.concat([pd.DataFrame(y_resampled),pd.DataFrame(X_resampled)],axis=1)\n",
    "df.fillna(0,inplace=True)\n",
    "df.columns = ['final_four','season', 'seed', 'team_id', 'conference_code_a_sun',\n",
    "       'conference_code_a_ten', 'conference_code_aac', 'conference_code_acc',\n",
    "       'conference_code_aec', 'conference_code_big_east',\n",
    "       'conference_code_big_sky', 'conference_code_big_south',\n",
    "       'conference_code_big_ten', 'conference_code_big_twelve',\n",
    "       'conference_code_big_west', 'conference_code_caa',\n",
    "       'conference_code_cusa', 'conference_code_horizon',\n",
    "       'conference_code_ivy', 'conference_code_maac', 'conference_code_mac',\n",
    "       'conference_code_meac', 'conference_code_mid_cont',\n",
    "       'conference_code_mvc', 'conference_code_mwc', 'conference_code_nec',\n",
    "       'conference_code_ovc', 'conference_code_pac_ten',\n",
    "       'conference_code_pac_twelve', 'conference_code_patriot',\n",
    "       'conference_code_sec', 'conference_code_southern',\n",
    "       'conference_code_southland', 'conference_code_summit',\n",
    "       'conference_code_sun_belt', 'conference_code_swac',\n",
    "       'conference_code_wac', 'conference_code_wcc', 'points_for',\n",
    "       'points_against', 'fg_for', 'fg_against', '3pm_for', '3pm_against',\n",
    "       'fga_for', 'fga_against', '3pa_for', '3pa_against', 'ft_for',\n",
    "       'ft_against', 'fta_for', 'fta_against', 'off_rebounds_for',\n",
    "       'off_rebounds_against', 'def_rebounds_for', 'def_rebounds_against',\n",
    "       'assists_for', 'assists_against', 'steals_for', 'steals_against',\n",
    "       'blocks_for', 'blocks_against', 'turnovers_for', 'turnovers_against',\n",
    "       'fouls_for', 'fouls_against']\n",
    "\n",
    "# Let's split on the years again\n",
    "y_test = df[df[\"season\"]>=2015][\"final_four\"]\n",
    "y_train = df[df[\"season\"]<2015][\"final_four\"]\n",
    "\n",
    "# 379/1872 so about 20%/80% split which is fine, I prefer the interpretability and preserve meaning.\n",
    "# We are using 2003 -> 2014 data to predict and test 2015, 2016, 2017."
   ]
  },
  {
   "cell_type": "code",
   "execution_count": 37,
   "metadata": {},
   "outputs": [],
   "source": [
    "X = df.loc[:,\"season\":\"fouls_against\"]\n",
    "X_test = X[X[\"season\"]>=2015]\n",
    "X_train = X[X[\"season\"]<2015]"
   ]
  },
  {
   "cell_type": "code",
   "execution_count": 38,
   "metadata": {},
   "outputs": [
    {
     "name": "stdout",
     "output_type": "stream",
     "text": [
      " X_train shape (1493, 65)\n",
      " y_train shape (1493,)\n",
      "\n",
      "\n",
      " X_test shape (379, 65)\n",
      " y_test shape (379,)\n"
     ]
    }
   ],
   "source": [
    "print(f' X_train shape {X_train.shape}')\n",
    "print(f' y_train shape {y_train.shape}')\n",
    "print(\"\\n\")\n",
    "print(f' X_test shape {X_test.shape}')\n",
    "print(f' y_test shape {y_test.shape}')"
   ]
  },
  {
   "cell_type": "code",
   "execution_count": 39,
   "metadata": {},
   "outputs": [
    {
     "name": "stdout",
     "output_type": "stream",
     "text": [
      "Number of teams making it to final four: 858.0\n",
      " Logreg train accuracy: 0.8961679222548786\n",
      " Logreg test accuracy: 0.9473593073593072\n"
     ]
    }
   ],
   "source": [
    "# Baseline logistic with balanced classes\n",
    "\n",
    "# Step 1: Instantiate our model.\n",
    "logreg_baseline = LogisticRegression(random_state=8)\n",
    "\n",
    "# Step 2: Fit our model.\n",
    "logreg_baseline.fit(X_train,y_train)\n",
    "\n",
    "# Step 3 (part 1): Generate prediction values\n",
    "print(f'Number of teams making it to final four: {sum(logreg_baseline.predict(X_train))}')\n",
    "\n",
    "# Step 3 (part 2): Generate predictions/probabilities\n",
    "logreg_baseline.predict_proba(X_train)[:,1]\n",
    "\n",
    "# Step 4: Score the model:\n",
    "print(f' Logreg train accuracy: {cross_val_score(logreg_baseline, X_train, y_train, cv=5).mean()}')\n",
    "print(f' Logreg test accuracy: {cross_val_score(logreg_baseline, X_test, y_test, cv=5).mean()}')"
   ]
  },
  {
   "cell_type": "code",
   "execution_count": 40,
   "metadata": {},
   "outputs": [
    {
     "data": {
      "text/plain": [
       "0.7704155525846702"
      ]
     },
     "execution_count": 40,
     "metadata": {},
     "output_type": "execute_result"
    }
   ],
   "source": [
    "roc_auc_score(y_test, logreg_baseline.predict_proba(X_test)[:,1])"
   ]
  },
  {
   "cell_type": "code",
   "execution_count": 41,
   "metadata": {},
   "outputs": [
    {
     "name": "stdout",
     "output_type": "stream",
     "text": [
      " seed coeff 0.5698449344437365\n",
      " acc coeff 0.26713530196585034\n"
     ]
    }
   ],
   "source": [
    "print(f' seed coeff {np.exp(-0.562391)}')\n",
    "print(f' acc coeff {np.exp(-1.32)}')"
   ]
  },
  {
   "cell_type": "markdown",
   "metadata": {},
   "source": [
    "The seed is very important.\n",
    "Remember, need to take exponential. If your seed increases by 1, your likelihood of reaching final four\n",
    "is 0.57x less. The individual team stats are less important, as I suspect the seed already captures a lot of that information. Season and team_id obviously do not matter as shown by 0 coefficient.\n",
    "\n",
    "And what conference you play in matters (acc, big_twelve or big_ten). If you play in acc, your likelihood of reaching final four is 0.26x less, this is probably explaining for the teams who are not top tier."
   ]
  },
  {
   "cell_type": "code",
   "execution_count": 42,
   "metadata": {},
   "outputs": [
    {
     "data": {
      "text/html": [
       "<table border=\"1\" class=\"dataframe table table-responsive table-striped table-bordered\">\n",
       "  <thead>\n",
       "    <tr style=\"text-align: right;\">\n",
       "      <th></th>\n",
       "      <th>0</th>\n",
       "      <th>1</th>\n",
       "    </tr>\n",
       "  </thead>\n",
       "  <tbody>\n",
       "    <tr>\n",
       "      <th>0</th>\n",
       "      <td>season</td>\n",
       "      <td>-0.00</td>\n",
       "    </tr>\n",
       "    <tr>\n",
       "      <th>1</th>\n",
       "      <td>seed</td>\n",
       "      <td>-0.56</td>\n",
       "    </tr>\n",
       "    <tr>\n",
       "      <th>2</th>\n",
       "      <td>team_id</td>\n",
       "      <td>-0.00</td>\n",
       "    </tr>\n",
       "  </tbody>\n",
       "</table>"
      ],
      "text/plain": [
       "<IPython.core.display.HTML object>"
      ]
     },
     "execution_count": 42,
     "metadata": {},
     "output_type": "execute_result"
    }
   ],
   "source": [
    "HTML(pd.DataFrame(list(zip(X.columns,logreg_baseline.coef_.T[:,0]))).head(3).to_html(classes=\"table table-responsive table-striped table-bordered\"))"
   ]
  },
  {
   "cell_type": "markdown",
   "metadata": {},
   "source": [
    "The AUC scores are more representative of the model's true performance. This basic logistic model was able to\n",
    "be accurate 90% of the time with training data and 95% with test data. Therefore, it's a good benchmark, with no strong indication of over-fitting, but let's try to improve through feature engineering (advanced basketball metrics!) and regularization.\n",
    "\n",
    "Notice how the AUC score has improved now. With this model (trained on balanced classes), we are materially better than a 'no information' classifier. It's closer to 1 so it does not display signals of imbalanced classes, nor overwhelming amount of false positives vs false negatives. We'll revisit this later in model evaluation."
   ]
  },
  {
   "cell_type": "markdown",
   "metadata": {},
   "source": [
    "---\n",
    "\n",
    "# Exploratory Data Analysis\n",
    "\n",
    "Let us perform EDA to better understand our data. "
   ]
  },
  {
   "cell_type": "markdown",
   "metadata": {},
   "source": [
    "## Summary Statistics"
   ]
  },
  {
   "cell_type": "markdown",
   "metadata": {},
   "source": [
    "### Correlation and Heatmap \n",
    "\n",
    "* Final_four is negatively correlated to seed (higher seed -> less likely to be in final four)\n",
    "* Final_four is positively correlated to fg_for (higher fg_for -> more likely to be in final four)\n",
    "    * Similar situation for blocks, assists, rebounds, points scored\n",
    "\n",
    "* Some of these independent variables are highly correlated, so I may not want to use all of them to reduce over-fitting. \n",
    "    * For example, points_for is related with points against, so I may want to combine those in a points differential variable, and offensive efficiency will combine (assists_for, fg_for)"
   ]
  },
  {
   "cell_type": "code",
   "execution_count": 43,
   "metadata": {},
   "outputs": [],
   "source": [
    "quant = df[['final_four', 'season', 'seed', 'team_id', 'points_for',\n",
    "       'points_against', 'fg_for', 'fg_against', '3pm_for', '3pm_against',\n",
    "       'fga_for', 'fga_against', '3pa_for', '3pa_against', 'ft_for',\n",
    "       'ft_against', 'fta_for', 'fta_against', 'off_rebounds_for',\n",
    "       'off_rebounds_against', 'def_rebounds_for', 'def_rebounds_against',\n",
    "       'assists_for', 'assists_against', 'steals_for', 'steals_against',\n",
    "       'blocks_for', 'blocks_against', 'turnovers_for', 'turnovers_against',\n",
    "       'fouls_for', 'fouls_against']]\n",
    "\n",
    "stats = df[['points_for','points_against', 'fg_for', 'fg_against', '3pm_for', '3pm_against',\n",
    "       'fga_for', 'fga_against', '3pa_for', '3pa_against', 'ft_for',\n",
    "       'ft_against', 'fta_for', 'fta_against', 'off_rebounds_for',\n",
    "       'off_rebounds_against', 'def_rebounds_for', 'def_rebounds_against',\n",
    "       'assists_for', 'assists_against', 'steals_for', 'steals_against',\n",
    "       'blocks_for', 'blocks_against', 'turnovers_for', 'turnovers_against',\n",
    "       'fouls_for', 'fouls_against']]"
   ]
  },
  {
   "cell_type": "code",
   "execution_count": 44,
   "metadata": {},
   "outputs": [
    {
     "data": {
      "image/png": "[encoded data removed]",
      "text/plain": [
       "<Figure size 576x576 with 2 Axes>"
      ]
     },
     "metadata": {},
     "output_type": "display_data"
    }
   ],
   "source": [
    "fig, ax = plt.subplots(figsize=(8, 8))\n",
    "corr = stats.corr()\n",
    "mask = np.zeros_like(corr)\n",
    "mask[np.triu_indices_from(mask)] = True\n",
    "with sns.axes_style(\"white\"):\n",
    "    ax = sns.heatmap(corr, mask=mask, vmax=.3, square=True, xticklabels = True, yticklabels = True)"
   ]
  },
  {
   "cell_type": "code",
   "execution_count": 45,
   "metadata": {},
   "outputs": [
    {
     "data": {
      "text/html": [
       "<table border=\"1\" class=\"dataframe table table-responsive table-striped\">\n",
       "  <thead>\n",
       "    <tr style=\"text-align: right;\">\n",
       "      <th></th>\n",
       "      <th>final_four</th>\n",
       "      <th>season</th>\n",
       "      <th>seed</th>\n",
       "      <th>team_id</th>\n",
       "      <th>points_for</th>\n",
       "      <th>points_against</th>\n",
       "      <th>fg_for</th>\n",
       "      <th>fg_against</th>\n",
       "      <th>3pm_for</th>\n",
       "      <th>3pm_against</th>\n",
       "      <th>fga_for</th>\n",
       "      <th>fga_against</th>\n",
       "      <th>3pa_for</th>\n",
       "      <th>3pa_against</th>\n",
       "      <th>ft_for</th>\n",
       "      <th>ft_against</th>\n",
       "      <th>fta_for</th>\n",
       "      <th>fta_against</th>\n",
       "      <th>off_rebounds_for</th>\n",
       "      <th>off_rebounds_against</th>\n",
       "      <th>def_rebounds_for</th>\n",
       "      <th>def_rebounds_against</th>\n",
       "      <th>assists_for</th>\n",
       "      <th>assists_against</th>\n",
       "      <th>steals_for</th>\n",
       "      <th>steals_against</th>\n",
       "      <th>blocks_for</th>\n",
       "      <th>blocks_against</th>\n",
       "      <th>turnovers_for</th>\n",
       "      <th>turnovers_against</th>\n",
       "      <th>fouls_for</th>\n",
       "      <th>fouls_against</th>\n",
       "    </tr>\n",
       "  </thead>\n",
       "  <tbody>\n",
       "    <tr>\n",
       "      <th>count</th>\n",
       "      <td>1872.00</td>\n",
       "      <td>1872.00</td>\n",
       "      <td>1872.00</td>\n",
       "      <td>1872.00</td>\n",
       "      <td>1872.00</td>\n",
       "      <td>1872.00</td>\n",
       "      <td>1872.00</td>\n",
       "      <td>1872.00</td>\n",
       "      <td>1872.00</td>\n",
       "      <td>1872.00</td>\n",
       "      <td>1872.00</td>\n",
       "      <td>1872.00</td>\n",
       "      <td>1872.00</td>\n",
       "      <td>1872.00</td>\n",
       "      <td>1872.00</td>\n",
       "      <td>1872.00</td>\n",
       "      <td>1872.00</td>\n",
       "      <td>1872.00</td>\n",
       "      <td>1872.00</td>\n",
       "      <td>1872.00</td>\n",
       "      <td>1872.00</td>\n",
       "      <td>1872.00</td>\n",
       "      <td>1872.00</td>\n",
       "      <td>1872.00</td>\n",
       "      <td>1872.00</td>\n",
       "      <td>1872.00</td>\n",
       "      <td>1872.00</td>\n",
       "      <td>1872.00</td>\n",
       "      <td>1872.00</td>\n",
       "      <td>1872.00</td>\n",
       "      <td>1872.00</td>\n",
       "      <td>1872.00</td>\n",
       "    </tr>\n",
       "    <tr>\n",
       "      <th>mean</th>\n",
       "      <td>0.50</td>\n",
       "      <td>2009.95</td>\n",
       "      <td>6.05</td>\n",
       "      <td>1290.26</td>\n",
       "      <td>2370.96</td>\n",
       "      <td>2049.25</td>\n",
       "      <td>836.08</td>\n",
       "      <td>729.79</td>\n",
       "      <td>213.76</td>\n",
       "      <td>192.89</td>\n",
       "      <td>1802.26</td>\n",
       "      <td>1780.15</td>\n",
       "      <td>588.58</td>\n",
       "      <td>585.63</td>\n",
       "      <td>485.04</td>\n",
       "      <td>396.78</td>\n",
       "      <td>686.40</td>\n",
       "      <td>577.32</td>\n",
       "      <td>379.41</td>\n",
       "      <td>351.31</td>\n",
       "      <td>788.69</td>\n",
       "      <td>688.99</td>\n",
       "      <td>469.75</td>\n",
       "      <td>376.67</td>\n",
       "      <td>224.75</td>\n",
       "      <td>193.06</td>\n",
       "      <td>133.78</td>\n",
       "      <td>101.09</td>\n",
       "      <td>403.02</td>\n",
       "      <td>446.56</td>\n",
       "      <td>553.43</td>\n",
       "      <td>605.75</td>\n",
       "    </tr>\n",
       "    <tr>\n",
       "      <th>std</th>\n",
       "      <td>0.50</td>\n",
       "      <td>4.34</td>\n",
       "      <td>4.79</td>\n",
       "      <td>99.57</td>\n",
       "      <td>310.72</td>\n",
       "      <td>254.79</td>\n",
       "      <td>115.35</td>\n",
       "      <td>95.10</td>\n",
       "      <td>47.18</td>\n",
       "      <td>35.78</td>\n",
       "      <td>233.19</td>\n",
       "      <td>229.30</td>\n",
       "      <td>116.29</td>\n",
       "      <td>103.06</td>\n",
       "      <td>81.73</td>\n",
       "      <td>74.40</td>\n",
       "      <td>111.37</td>\n",
       "      <td>106.74</td>\n",
       "      <td>73.81</td>\n",
       "      <td>60.89</td>\n",
       "      <td>109.08</td>\n",
       "      <td>94.69</td>\n",
       "      <td>78.42</td>\n",
       "      <td>58.24</td>\n",
       "      <td>49.50</td>\n",
       "      <td>34.69</td>\n",
       "      <td>50.44</td>\n",
       "      <td>23.60</td>\n",
       "      <td>63.21</td>\n",
       "      <td>76.71</td>\n",
       "      <td>79.72</td>\n",
       "      <td>78.79</td>\n",
       "    </tr>\n",
       "    <tr>\n",
       "      <th>min</th>\n",
       "      <td>0.00</td>\n",
       "      <td>2003.00</td>\n",
       "      <td>1.00</td>\n",
       "      <td>1102.00</td>\n",
       "      <td>0.00</td>\n",
       "      <td>0.00</td>\n",
       "      <td>0.00</td>\n",
       "      <td>0.00</td>\n",
       "      <td>0.00</td>\n",
       "      <td>0.00</td>\n",
       "      <td>0.00</td>\n",
       "      <td>0.00</td>\n",
       "      <td>0.00</td>\n",
       "      <td>0.00</td>\n",
       "      <td>0.00</td>\n",
       "      <td>0.00</td>\n",
       "      <td>0.00</td>\n",
       "      <td>0.00</td>\n",
       "      <td>0.00</td>\n",
       "      <td>0.00</td>\n",
       "      <td>0.00</td>\n",
       "      <td>0.00</td>\n",
       "      <td>0.00</td>\n",
       "      <td>0.00</td>\n",
       "      <td>0.00</td>\n",
       "      <td>0.00</td>\n",
       "      <td>0.00</td>\n",
       "      <td>0.00</td>\n",
       "      <td>0.00</td>\n",
       "      <td>0.00</td>\n",
       "      <td>0.00</td>\n",
       "      <td>0.00</td>\n",
       "    </tr>\n",
       "    <tr>\n",
       "      <th>25%</th>\n",
       "      <td>0.00</td>\n",
       "      <td>2006.00</td>\n",
       "      <td>2.00</td>\n",
       "      <td>1210.00</td>\n",
       "      <td>2226.00</td>\n",
       "      <td>1957.00</td>\n",
       "      <td>779.00</td>\n",
       "      <td>695.00</td>\n",
       "      <td>184.00</td>\n",
       "      <td>171.00</td>\n",
       "      <td>1708.50</td>\n",
       "      <td>1680.00</td>\n",
       "      <td>525.00</td>\n",
       "      <td>534.00</td>\n",
       "      <td>446.00</td>\n",
       "      <td>357.75</td>\n",
       "      <td>637.00</td>\n",
       "      <td>518.75</td>\n",
       "      <td>337.00</td>\n",
       "      <td>319.00</td>\n",
       "      <td>733.00</td>\n",
       "      <td>646.00</td>\n",
       "      <td>428.00</td>\n",
       "      <td>347.75</td>\n",
       "      <td>191.00</td>\n",
       "      <td>173.00</td>\n",
       "      <td>101.00</td>\n",
       "      <td>87.00</td>\n",
       "      <td>376.00</td>\n",
       "      <td>404.00</td>\n",
       "      <td>522.00</td>\n",
       "      <td>574.00</td>\n",
       "    </tr>\n",
       "    <tr>\n",
       "      <th>50%</th>\n",
       "      <td>0.50</td>\n",
       "      <td>2010.00</td>\n",
       "      <td>4.00</td>\n",
       "      <td>1277.00</td>\n",
       "      <td>2403.00</td>\n",
       "      <td>2061.00</td>\n",
       "      <td>838.00</td>\n",
       "      <td>733.00</td>\n",
       "      <td>212.00</td>\n",
       "      <td>192.00</td>\n",
       "      <td>1824.00</td>\n",
       "      <td>1802.00</td>\n",
       "      <td>595.00</td>\n",
       "      <td>588.00</td>\n",
       "      <td>488.00</td>\n",
       "      <td>394.50</td>\n",
       "      <td>698.00</td>\n",
       "      <td>582.00</td>\n",
       "      <td>376.00</td>\n",
       "      <td>355.00</td>\n",
       "      <td>798.00</td>\n",
       "      <td>698.00</td>\n",
       "      <td>467.00</td>\n",
       "      <td>375.00</td>\n",
       "      <td>224.00</td>\n",
       "      <td>194.00</td>\n",
       "      <td>123.00</td>\n",
       "      <td>102.00</td>\n",
       "      <td>398.00</td>\n",
       "      <td>444.00</td>\n",
       "      <td>561.00</td>\n",
       "      <td>615.00</td>\n",
       "    </tr>\n",
       "    <tr>\n",
       "      <th>75%</th>\n",
       "      <td>1.00</td>\n",
       "      <td>2014.00</td>\n",
       "      <td>10.00</td>\n",
       "      <td>1386.00</td>\n",
       "      <td>2552.00</td>\n",
       "      <td>2164.00</td>\n",
       "      <td>901.00</td>\n",
       "      <td>776.00</td>\n",
       "      <td>243.00</td>\n",
       "      <td>213.00</td>\n",
       "      <td>1916.00</td>\n",
       "      <td>1903.00</td>\n",
       "      <td>662.00</td>\n",
       "      <td>646.00</td>\n",
       "      <td>525.00</td>\n",
       "      <td>442.00</td>\n",
       "      <td>746.00</td>\n",
       "      <td>641.00</td>\n",
       "      <td>425.00</td>\n",
       "      <td>386.25</td>\n",
       "      <td>851.00</td>\n",
       "      <td>742.00</td>\n",
       "      <td>512.00</td>\n",
       "      <td>406.00</td>\n",
       "      <td>252.00</td>\n",
       "      <td>211.00</td>\n",
       "      <td>159.25</td>\n",
       "      <td>114.00</td>\n",
       "      <td>440.00</td>\n",
       "      <td>493.00</td>\n",
       "      <td>599.00</td>\n",
       "      <td>647.00</td>\n",
       "    </tr>\n",
       "    <tr>\n",
       "      <th>max</th>\n",
       "      <td>1.00</td>\n",
       "      <td>2017.00</td>\n",
       "      <td>16.00</td>\n",
       "      <td>1463.00</td>\n",
       "      <td>3016.00</td>\n",
       "      <td>2657.00</td>\n",
       "      <td>1113.00</td>\n",
       "      <td>999.00</td>\n",
       "      <td>342.00</td>\n",
       "      <td>335.00</td>\n",
       "      <td>2245.00</td>\n",
       "      <td>2248.00</td>\n",
       "      <td>923.00</td>\n",
       "      <td>899.00</td>\n",
       "      <td>696.00</td>\n",
       "      <td>648.00</td>\n",
       "      <td>1020.00</td>\n",
       "      <td>921.00</td>\n",
       "      <td>555.00</td>\n",
       "      <td>510.00</td>\n",
       "      <td>1021.00</td>\n",
       "      <td>956.00</td>\n",
       "      <td>709.00</td>\n",
       "      <td>564.00</td>\n",
       "      <td>402.00</td>\n",
       "      <td>291.00</td>\n",
       "      <td>299.00</td>\n",
       "      <td>179.00</td>\n",
       "      <td>584.00</td>\n",
       "      <td>695.00</td>\n",
       "      <td>795.00</td>\n",
       "      <td>795.00</td>\n",
       "    </tr>\n",
       "  </tbody>\n",
       "</table>"
      ],
      "text/plain": [
       "<IPython.core.display.HTML object>"
      ]
     },
     "execution_count": 45,
     "metadata": {},
     "output_type": "execute_result"
    }
   ],
   "source": [
    "HTML(quant.describe().to_html(classes='table table-responsive table-striped'))"
   ]
  },
  {
   "cell_type": "markdown",
   "metadata": {},
   "source": [
    "While the team's season statistics are useful, it may be more predictive to understand a team's performance on a per game basis, to understand how it's winning or losing its games."
   ]
  },
  {
   "cell_type": "markdown",
   "metadata": {},
   "source": [
    "The main categorical variable is conferences. It appears to also be predictive from the baseline, representing the strength of the conference. Some conferences are generally very strong and play stronger competition than others.\n",
    "<ul>\n",
    "<li> big_ten (Michigan State, Purdue, Michigan) </li>\n",
    "<li> big_twelve (Texas Tech, Kansas State) </li>\n",
    "<li> acc (Duke, UNC, Virgnia) </li>\n",
    "</ul>\n",
    "\n",
    "See that big_east, acc, big_ten, sec, big_twelve all have 5+ teams that have made it to the final four. These are the conferences with the best teams."
   ]
  },
  {
   "cell_type": "code",
   "execution_count": 46,
   "metadata": {},
   "outputs": [
    {
     "data": {
      "text/html": [
       "<table border=\"1\" class=\"dataframe table table-responsive table-striped\">\n",
       "  <thead>\n",
       "    <tr style=\"text-align: right;\">\n",
       "      <th></th>\n",
       "      <th>final_four</th>\n",
       "    </tr>\n",
       "    <tr>\n",
       "      <th>conference_code</th>\n",
       "      <th></th>\n",
       "    </tr>\n",
       "  </thead>\n",
       "  <tbody>\n",
       "    <tr>\n",
       "      <th>big_east</th>\n",
       "      <td>11.00</td>\n",
       "    </tr>\n",
       "    <tr>\n",
       "      <th>acc</th>\n",
       "      <td>10.00</td>\n",
       "    </tr>\n",
       "    <tr>\n",
       "      <th>big_ten</th>\n",
       "      <td>10.00</td>\n",
       "    </tr>\n",
       "    <tr>\n",
       "      <th>sec</th>\n",
       "      <td>9.00</td>\n",
       "    </tr>\n",
       "    <tr>\n",
       "      <th>big_twelve</th>\n",
       "      <td>6.00</td>\n",
       "    </tr>\n",
       "  </tbody>\n",
       "</table>"
      ],
      "text/plain": [
       "<IPython.core.display.HTML object>"
      ]
     },
     "execution_count": 46,
     "metadata": {},
     "output_type": "execute_result"
    }
   ],
   "source": [
    "HTML(pd.DataFrame(regular_season_total.groupby(\"conference_code\")[\"final_four\"].sum()).sort_values(by=\"final_four\",ascending=False)[0:5].to_html(classes='table table-responsive table-striped'))"
   ]
  },
  {
   "cell_type": "markdown",
   "metadata": {},
   "source": [
    "Some other observations include: \n",
    "* No seeds greater than 11 have made it to final four\n",
    "* Teams which make the final four, in the regular season score more, make more FG, give up less FTs, rebound more, block more, foul less, ... all the attributes of a great basketball team"
   ]
  },
  {
   "cell_type": "markdown",
   "metadata": {},
   "source": [
    "---\n",
    "# Feature Engineering"
   ]
  },
  {
   "cell_type": "markdown",
   "metadata": {},
   "source": [
    "## 'Standardize' features"
   ]
  },
  {
   "cell_type": "markdown",
   "metadata": {},
   "source": [
    "Let's keep the stat metrics on the same scale, on a per game basis rather than standardizing to keep it interpretable. First we need to count the number of games for each team."
   ]
  },
  {
   "cell_type": "code",
   "execution_count": 179,
   "metadata": {
    "scrolled": true
   },
   "outputs": [],
   "source": [
    "regular[\"game_won\"] = np.ones((regular.shape[0], 1))\n",
    "df_gw = regular.groupby([\"season\",\"winning_team_id\"]).count().reset_index()[[\"season\", \"winning_team_id\",\"game_won\"]]\n",
    "df_gw.columns = [\"season\", \"team_id\",\"game_won\"]"
   ]
  },
  {
   "cell_type": "code",
   "execution_count": 180,
   "metadata": {
    "scrolled": true
   },
   "outputs": [],
   "source": [
    "regular[\"game_lost\"] = np.ones((regular.shape[0], 1))\n",
    "df_gl = regular.groupby([\"season\",\"losing_team_id\"]).count().reset_index()[[\"season\", \"losing_team_id\",\"game_lost\"]]\n",
    "df_gl.columns = [\"season\", \"team_id\",\"game_lost\"]"
   ]
  },
  {
   "cell_type": "code",
   "execution_count": 181,
   "metadata": {},
   "outputs": [],
   "source": [
    "df = pd.merge(df,df_gl,how=\"left\",on=['season','team_id'])"
   ]
  },
  {
   "cell_type": "code",
   "execution_count": 182,
   "metadata": {},
   "outputs": [],
   "source": [
    "df = pd.merge(df,df_gw,how=\"left\",on=['season','team_id'])"
   ]
  },
  {
   "cell_type": "code",
   "execution_count": 183,
   "metadata": {},
   "outputs": [],
   "source": [
    "df[\"game_total\"] = df[\"game_won\"] + df[\"game_lost\"]\n",
    "df.fillna(0,inplace=True)"
   ]
  },
  {
   "cell_type": "code",
   "execution_count": 184,
   "metadata": {},
   "outputs": [],
   "source": [
    "# Effective gf \n",
    "# This statistic adjusts for the fact that a 3-point field goal is worth one more point than a 2-point field goal.\n",
    "df[\"efg%\"]=(df[\"fg_for\"] + 0.5*df[\"3pm_for\"]) / df[\"fga_for\"]"
   ]
  },
  {
   "cell_type": "code",
   "execution_count": 185,
   "metadata": {},
   "outputs": [],
   "source": [
    "df.loc[:,'points_for':'fouls_against'] = df[['points_for', 'points_against', 'fg_for', 'fg_against', '3pm_for', '3pm_against',\n",
    " 'fga_for', 'fga_against', '3pa_for', '3pa_against', 'ft_for',\n",
    " 'ft_against', 'fta_for', 'fta_against', 'off_rebounds_for',\n",
    "   'off_rebounds_against', 'def_rebounds_for', 'def_rebounds_against',\n",
    "   'assists_for', 'assists_against', 'steals_for', 'steals_against',\n",
    "   'blocks_for', 'blocks_against', 'turnovers_for', 'turnovers_against',\n",
    "   'fouls_for', 'fouls_against']].apply(lambda x: x / df.game_total)"
   ]
  },
  {
   "cell_type": "markdown",
   "metadata": {},
   "source": [
    "## Transform and add new features\n",
    "\n",
    "Let's use some advanced metrics from the NBA. \n",
    "Note, opponent % are kept as to gauge defense as well."
   ]
  },
  {
   "cell_type": "code",
   "execution_count": 186,
   "metadata": {},
   "outputs": [],
   "source": [
    "# Now, instead of games_won and games_lost, let's combine this into win_%\n",
    "df['win_%']=df[\"game_won\"]/df[\"game_total\"]\n",
    "\n",
    "# +/- point differential aka margin of victory\n",
    "df[\"margin_of_victory\"]=df[\"points_for\"]-df[\"points_against\"]\n",
    "\n",
    "# Assist to turnover ratio: this measures your ability to care of possessions and pass the ball, as a team.\n",
    "df[\"ast_to_ratio\"] = df[\"assists_for\"]/df[\"turnovers_for\"]\n",
    "\n",
    "# Let's convert field goals, threes and fts into %. Will reduce collinearity and also simplify interpretation.\n",
    "df['fg%_for'] = df['fg_for']/df['fga_for']\n",
    "df['fg%_against'] = df['fg_against']/df['fga_against']\n",
    "\n",
    "df['3p%_for'] = X['3pm_for']/X['3pa_for']\n",
    "df['3p%_against'] = df['3pm_against']/df['3pa_against']\n",
    "\n",
    "df['ft%_for'] = df['ft_for']/X['fta_for']\n",
    "df['ft%_against'] = df['ft_against']/df['fta_against']"
   ]
  },
  {
   "cell_type": "code",
   "execution_count": 187,
   "metadata": {},
   "outputs": [],
   "source": [
    "# drop games won, lost, its redundant with win_%\n",
    "df = df.drop([\"game_won\",\"game_lost\"],axis=1) "
   ]
  },
  {
   "cell_type": "code",
   "execution_count": 188,
   "metadata": {},
   "outputs": [],
   "source": [
    "# Some games have no data, probably from sampling these teams don't exist. Let's just drop for now since I'm getting NaN.\n",
    "df.dropna(inplace=True)"
   ]
  },
  {
   "cell_type": "code",
   "execution_count": 86,
   "metadata": {},
   "outputs": [
    {
     "data": {
      "text/plain": [
       "(1856, 77)"
      ]
     },
     "execution_count": 86,
     "metadata": {},
     "output_type": "execute_result"
    }
   ],
   "source": [
    "df.to_csv(\"./data/df.csv\")\n",
    "df.shape # 1856 observations"
   ]
  },
  {
   "cell_type": "markdown",
   "metadata": {},
   "source": [
    "I will keep the original features and use regularization methods in the next section."
   ]
  },
  {
   "cell_type": "markdown",
   "metadata": {},
   "source": [
    "---\n",
    "# Modelling\n",
    "## Logistic Regression with Regularization\n",
    "### L1: Lasso\n",
    "\n",
    "I prefer Lasso as a shrinkage method, to narrow down on the most important features, since our baseline model was very accurate already. "
   ]
  },
  {
   "cell_type": "code",
   "execution_count": 201,
   "metadata": {},
   "outputs": [
    {
     "name": "stdout",
     "output_type": "stream",
     "text": [
      "(1492, 76)\n",
      "(364, 76)\n",
      "Logistic Regression Intercept: [0.]\n",
      "Logistic Regression Coefficient: [[-0.0012153  -0.6837633   0.00072333  0.         -2.44191693  2.48408599\n",
      "  -0.964152    0.         -0.31075531  0.          0.          0.80899047\n",
      "  -1.47521544  0.          6.28137961  0.93520549  5.1251736   0.\n",
      "   0.          0.          0.          0.          1.91588091 -2.56345391\n",
      "   0.          0.          0.         -2.5507449   0.          0.24535897\n",
      "   0.          0.          0.          0.          0.          0.\n",
      "  -3.40287112  0.09635222  0.03212444  0.15745544  0.         -1.68313285\n",
      "   1.38608677 -0.33650906  0.20264111  0.48025645 -0.49238313  0.19572923\n",
      "  -0.4448577  -0.24921486  0.67154919  0.40774297 -0.13740773 -0.16521916\n",
      "   0.01779028 -0.45970706  0.19248742  0.21530272 -0.02207059 -0.01640808\n",
      "   0.23174252  0.26819881 -0.35574917  0.         -0.47109025  0.24791855\n",
      "   0.         -2.02168244  0.44660712  0.          0.          0.\n",
      "   0.          0.          0.          0.        ]]\n",
      "\n",
      "\n",
      "Number of teams making it to final four:832.0\n",
      "\n",
      "\n",
      "[0.45132789 0.8439776  0.88002624 ... 0.97316549 0.7337679  0.79253303]\n",
      "\n",
      "\n"
     ]
    }
   ],
   "source": [
    "y_test = df[df[\"season\"]>=2015][\"final_four\"]\n",
    "y_train = df[df[\"season\"]<2015][\"final_four\"]\n",
    "X_train = df.query(\"season<2015\").loc[:,\"season\":\"ft%_against\"]\n",
    "X_test = df.query(\"season>=2015\").loc[:,\"season\":\"ft%_against\"]\n",
    "\n",
    "print(X_train.shape) #80%\n",
    "print(X_test.shape) #20%\n",
    "\n",
    "# Instantiate Model\n",
    "logreg_lasso_1 = LogisticRegression(penalty='l1', C=1)\n",
    "\n",
    "# Fit model.\n",
    "logreg_lasso_1.fit(X_train, y_train)\n",
    "\n",
    "print(f'Logistic Regression Intercept: {logreg_lasso_1.intercept_}')\n",
    "print(f'Logistic Regression Coefficient: {logreg_lasso_1.coef_}')\n",
    "print(\"\\n\")\n",
    "\n",
    "# Generate prediction values\n",
    "print(f'Number of teams making it to final four:{sum(logreg_lasso_1.predict(X_train))}')\n",
    "print(\"\\n\")\n",
    "\n",
    "# Generate predictions/probabilities\n",
    "print(logreg_lasso_1.predict_proba(X_train)[:,1])\n",
    "print(\"\\n\")"
   ]
  },
  {
   "cell_type": "markdown",
   "metadata": {},
   "source": [
    "### Interpretation of Coefficients"
   ]
  },
  {
   "cell_type": "code",
   "execution_count": 227,
   "metadata": {
    "scrolled": true
   },
   "outputs": [
    {
     "data": {
      "text/html": [
       "<table border=\"1\" class=\"dataframe table table-responsive table-striped\">\n",
       "  <thead>\n",
       "    <tr style=\"text-align: right;\">\n",
       "      <th></th>\n",
       "      <th>variable</th>\n",
       "      <th>coef</th>\n",
       "      <th>coef_abs</th>\n",
       "    </tr>\n",
       "  </thead>\n",
       "  <tbody>\n",
       "    <tr>\n",
       "      <th>14</th>\n",
       "      <td>conference_code_caa</td>\n",
       "      <td>6.28</td>\n",
       "      <td>6.28</td>\n",
       "    </tr>\n",
       "    <tr>\n",
       "      <th>16</th>\n",
       "      <td>conference_code_horizon</td>\n",
       "      <td>5.13</td>\n",
       "      <td>5.13</td>\n",
       "    </tr>\n",
       "    <tr>\n",
       "      <th>36</th>\n",
       "      <td>conference_code_wcc</td>\n",
       "      <td>-3.40</td>\n",
       "      <td>3.40</td>\n",
       "    </tr>\n",
       "    <tr>\n",
       "      <th>23</th>\n",
       "      <td>conference_code_mwc</td>\n",
       "      <td>-2.56</td>\n",
       "      <td>2.56</td>\n",
       "    </tr>\n",
       "    <tr>\n",
       "      <th>27</th>\n",
       "      <td>conference_code_pac_twelve</td>\n",
       "      <td>-2.55</td>\n",
       "      <td>2.55</td>\n",
       "    </tr>\n",
       "    <tr>\n",
       "      <th>5</th>\n",
       "      <td>conference_code_aac</td>\n",
       "      <td>2.48</td>\n",
       "      <td>2.48</td>\n",
       "    </tr>\n",
       "    <tr>\n",
       "      <th>4</th>\n",
       "      <td>conference_code_a_ten</td>\n",
       "      <td>-2.44</td>\n",
       "      <td>2.44</td>\n",
       "    </tr>\n",
       "    <tr>\n",
       "      <th>67</th>\n",
       "      <td>win_%</td>\n",
       "      <td>-2.02</td>\n",
       "      <td>2.02</td>\n",
       "    </tr>\n",
       "    <tr>\n",
       "      <th>22</th>\n",
       "      <td>conference_code_mvc</td>\n",
       "      <td>1.92</td>\n",
       "      <td>1.92</td>\n",
       "    </tr>\n",
       "    <tr>\n",
       "      <th>41</th>\n",
       "      <td>3pm_for</td>\n",
       "      <td>-1.68</td>\n",
       "      <td>1.68</td>\n",
       "    </tr>\n",
       "    <tr>\n",
       "      <th>12</th>\n",
       "      <td>conference_code_big_twelve</td>\n",
       "      <td>-1.48</td>\n",
       "      <td>1.48</td>\n",
       "    </tr>\n",
       "    <tr>\n",
       "      <th>42</th>\n",
       "      <td>3pm_against</td>\n",
       "      <td>1.39</td>\n",
       "      <td>1.39</td>\n",
       "    </tr>\n",
       "    <tr>\n",
       "      <th>6</th>\n",
       "      <td>conference_code_acc</td>\n",
       "      <td>-0.96</td>\n",
       "      <td>0.96</td>\n",
       "    </tr>\n",
       "    <tr>\n",
       "      <th>15</th>\n",
       "      <td>conference_code_cusa</td>\n",
       "      <td>0.94</td>\n",
       "      <td>0.94</td>\n",
       "    </tr>\n",
       "    <tr>\n",
       "      <th>11</th>\n",
       "      <td>conference_code_big_ten</td>\n",
       "      <td>0.81</td>\n",
       "      <td>0.81</td>\n",
       "    </tr>\n",
       "    <tr>\n",
       "      <th>1</th>\n",
       "      <td>seed</td>\n",
       "      <td>-0.68</td>\n",
       "      <td>0.68</td>\n",
       "    </tr>\n",
       "    <tr>\n",
       "      <th>50</th>\n",
       "      <td>fta_against</td>\n",
       "      <td>0.67</td>\n",
       "      <td>0.67</td>\n",
       "    </tr>\n",
       "    <tr>\n",
       "      <th>46</th>\n",
       "      <td>3pa_against</td>\n",
       "      <td>-0.49</td>\n",
       "      <td>0.49</td>\n",
       "    </tr>\n",
       "    <tr>\n",
       "      <th>45</th>\n",
       "      <td>3pa_for</td>\n",
       "      <td>0.48</td>\n",
       "      <td>0.48</td>\n",
       "    </tr>\n",
       "    <tr>\n",
       "      <th>64</th>\n",
       "      <td>fouls_against</td>\n",
       "      <td>-0.47</td>\n",
       "      <td>0.47</td>\n",
       "    </tr>\n",
       "    <tr>\n",
       "      <th>55</th>\n",
       "      <td>assists_for</td>\n",
       "      <td>-0.46</td>\n",
       "      <td>0.46</td>\n",
       "    </tr>\n",
       "    <tr>\n",
       "      <th>68</th>\n",
       "      <td>margin_of_victory</td>\n",
       "      <td>0.45</td>\n",
       "      <td>0.45</td>\n",
       "    </tr>\n",
       "    <tr>\n",
       "      <th>48</th>\n",
       "      <td>ft_against</td>\n",
       "      <td>-0.44</td>\n",
       "      <td>0.44</td>\n",
       "    </tr>\n",
       "    <tr>\n",
       "      <th>51</th>\n",
       "      <td>off_rebounds_for</td>\n",
       "      <td>0.41</td>\n",
       "      <td>0.41</td>\n",
       "    </tr>\n",
       "    <tr>\n",
       "      <th>62</th>\n",
       "      <td>turnovers_against</td>\n",
       "      <td>-0.36</td>\n",
       "      <td>0.36</td>\n",
       "    </tr>\n",
       "  </tbody>\n",
       "</table>"
      ],
      "text/plain": [
       "<IPython.core.display.HTML object>"
      ]
     },
     "execution_count": 227,
     "metadata": {},
     "output_type": "execute_result"
    }
   ],
   "source": [
    "lasso_coef = pd.DataFrame(list(zip(X_train.columns,logreg_lasso_1.coef_.T[:,0])))\n",
    "lasso_coef.columns = [\"variable\",\"coef\"]\n",
    "lasso_coef[\"coef_abs\"]=abs(lasso_coef[\"coef\"])\n",
    "HTML(lasso_coef.sort_values(by=\"coef_abs\",ascending=False)[0:25].to_html(classes='table table-responsive table-striped'))"
   ]
  },
  {
   "cell_type": "markdown",
   "metadata": {},
   "source": [
    "* Outside of conferences, win_% is the most important predictor. Although it's strange to see that it has a negative sign, this is probably the case because schools that make to to the final four actually have lower win % than schools who do not make it to the final four because they face tougher competition (57% avg vs 72% avg). This supports the argument that which conference you play for is very important in predictive power. \n",
    "\n",
    "* Again, your strongest conferences, are the big_twelve, acc, big_ten. If you play in acc, your likelihood of reaching final four is very low, because you will likely be dominated by the top tier schools in those conferences. \n",
    "\n",
    "* In terms of regular season states, 3PM for and against is important, as the game continues to move shooting more threes, as it's been proven to be an effective strategy. \n",
    "\n",
    "* Lastly, seed is not to be overlooked as it's a good composite score for a team's strength, capturing a lot of regular season performance. As your seed increases by 1, your likelihood of reaching final four is 0.50x less. This makes sense, as a 3 seed only has a ~12.5% (0.5^3) of making to final four! This is consistent with FiveThirtyEight's forecasts. Purdue, Houston, & Texas Tech had 10-14% of making it to the Final four.\n",
    "\n",
    "* Similar to the NBA, margin of victory is a predictive variable though with a positive correlation. In the NBA, there is more parity since each team plays one another at least twice in a season, so individual team stats are more important than seed & conference."
   ]
  },
  {
   "cell_type": "markdown",
   "metadata": {},
   "source": [
    "---\n",
    "## Model Evaluation"
   ]
  },
  {
   "cell_type": "code",
   "execution_count": 204,
   "metadata": {},
   "outputs": [
    {
     "name": "stdout",
     "output_type": "stream",
     "text": [
      " Logreg train accuracy: 0.8981365433947868\n",
      "\n",
      "\n",
      " Logreg test accuracy: 0.9203453453453454\n",
      "\n",
      "\n",
      " Area under the curve: 0.8046269379844961\n"
     ]
    }
   ],
   "source": [
    "# Score the model - accuracy\n",
    "print(f' Logreg train accuracy: {cross_val_score(logreg_lasso_1, X_train, y_train, cv=5).mean()}')\n",
    "print(\"\\n\")\n",
    "\n",
    "print(f' Logreg test accuracy: {cross_val_score(logreg_lasso_1, X_test, y_test, cv=5).mean()}')\n",
    "print(\"\\n\")\n",
    "\n",
    "# Area under the curve\n",
    "print(f' Area under the curve: {roc_auc_score(y_test, logreg_lasso_1.predict_proba(X_test)[:,1])}')"
   ]
  },
  {
   "cell_type": "markdown",
   "metadata": {},
   "source": [
    "<table class=\"table\">\n",
    "<thead class=\"table-responsive table-striped\">\n",
    "<tr>\n",
    "<th>Metric</th>\n",
    "<th>Baseline</th>\n",
    "<th>Logistic Regression, Lasso = 1</th>\n",
    "</tr>\n",
    "<tbody>\n",
    "<tr>\n",
    "<td>Train Accuracy</td>\n",
    "<td>94%</td>\n",
    "<td>90%</td>\n",
    "</tr>\n",
    "<tr>\n",
    "<td>Test Accuracy</td>\n",
    "<td>96%</td>\n",
    "<td>92%</td>\n",
    "</tr>\n",
    "<tr>\n",
    "<td>Area under the curve</td>\n",
    "<td>77%</td>\n",
    "<td>80%</td>\n",
    "</tr>\n",
    "</tbody>\n",
    "</table>"
   ]
  },
  {
   "cell_type": "markdown",
   "metadata": {},
   "source": [
    "Even with fewer variables, this model is arguably as performant as the original.\n",
    "It does not overfit, and even improves the AUC score by 3%."
   ]
  },
  {
   "cell_type": "code",
   "execution_count": 205,
   "metadata": {},
   "outputs": [],
   "source": [
    "# create data frame of true values and predicted probabilities on test set\n",
    "pred_proba = [i[1] for i in logreg_lasso_1.predict_proba(X_test)]\n",
    "\n",
    "pred_df = pd.DataFrame({'true_values': y_test,\n",
    "                        'pred_probs':pred_proba})"
   ]
  },
  {
   "cell_type": "code",
   "execution_count": 206,
   "metadata": {},
   "outputs": [
    {
     "data": {
      "image/png": "[encoded data removed]",
      "text/plain": [
       "<Figure size 576x576 with 1 Axes>"
      ]
     },
     "metadata": {},
     "output_type": "display_data"
    }
   ],
   "source": [
    "# Create figure.\n",
    "plt.figure(figsize = (8,8))\n",
    "\n",
    "# Create threshold values.\n",
    "thresholds = np.linspace(0, 1, 200)\n",
    "\n",
    "# Define function to calculate sensitivity. (True positive rate.)\n",
    "def TPR(df, true_col, pred_prob_col, threshold):\n",
    "    true_positive = df[(df[true_col] == 1) & (df[pred_prob_col] >= threshold)].shape[0]\n",
    "    false_negative = df[(df[true_col] == 1) & (df[pred_prob_col] < threshold)].shape[0]\n",
    "    return true_positive / (true_positive + false_negative)\n",
    "    \n",
    "\n",
    "# Define function to calculate 1 - specificity. (False positive rate.)\n",
    "def FPR(df, true_col, pred_prob_col, threshold):\n",
    "    true_negative = df[(df[true_col] == 0) & (df[pred_prob_col] <= threshold)].shape[0]\n",
    "    false_positive = df[(df[true_col] == 0) & (df[pred_prob_col] > threshold)].shape[0]\n",
    "    return 1 - (true_negative / (true_negative + false_positive))\n",
    "    \n",
    "# Calculate sensitivity & 1-specificity for each threshold between 0 and 1.\n",
    "tpr_values = [TPR(pred_df, 'true_values', 'pred_probs', prob) for prob in thresholds]\n",
    "fpr_values = [FPR(pred_df, 'true_values', 'pred_probs', prob) for prob in thresholds]\n",
    "\n",
    "# Plot ROC curve.\n",
    "plt.plot(fpr_values, # False Positive Rate on X-axis\n",
    "         tpr_values, # True Positive Rate on Y-axis\n",
    "         label='ROC Curve')\n",
    "\n",
    "# Plot baseline. (Perfect overlap between the two populations.)\n",
    "plt.plot(np.linspace(0, 1, 200),\n",
    "         np.linspace(0, 1, 200),\n",
    "         label='baseline',\n",
    "         linestyle='--')\n",
    "\n",
    "# Label axes.\n",
    "plt.title(f'ROC Curve with AUC = {round(roc_auc_score(pred_df[\"true_values\"], pred_df[\"pred_probs\"]),2)}', fontsize=20)\n",
    "plt.ylabel('Sensitivity', fontsize=15)\n",
    "plt.xlabel('1 - Specificity', fontsize=15)\n",
    "\n",
    "# Create legend.\n",
    "plt.legend(fontsize=16);"
   ]
  },
  {
   "cell_type": "code",
   "execution_count": 229,
   "metadata": {},
   "outputs": [
    {
     "data": {
      "text/html": [
       "<table border=\"1\" class=\"dataframe table table-responsive table-striped\">\n",
       "  <thead>\n",
       "    <tr style=\"text-align: right;\">\n",
       "      <th></th>\n",
       "      <th>predicted negative</th>\n",
       "      <th>predicted positive</th>\n",
       "    </tr>\n",
       "  </thead>\n",
       "  <tbody>\n",
       "    <tr>\n",
       "      <th>actual negative</th>\n",
       "      <td>167</td>\n",
       "      <td>25</td>\n",
       "    </tr>\n",
       "    <tr>\n",
       "      <th>actual positive</th>\n",
       "      <td>69</td>\n",
       "      <td>103</td>\n",
       "    </tr>\n",
       "  </tbody>\n",
       "</table>"
      ],
      "text/plain": [
       "<IPython.core.display.HTML object>"
      ]
     },
     "execution_count": 229,
     "metadata": {},
     "output_type": "execute_result"
    }
   ],
   "source": [
    "cm = confusion_matrix(y_test, logreg_lasso_1.predict(X_test))\n",
    "cm_df = pd.DataFrame(data=cm, columns=['predicted negative', 'predicted positive'], index=['actual negative', 'actual positive'])\n",
    "HTML(cm_df.to_html(classes='table table-responsive table-striped'))"
   ]
  },
  {
   "cell_type": "markdown",
   "metadata": {},
   "source": [
    "There are more false negatives than false positives (predicting no final four, when it is final four). The shape of the ROC Curve is due to the random over sampling."
   ]
  },
  {
   "cell_type": "markdown",
   "metadata": {},
   "source": [
    "## Hyperparameter Selection \n",
    "Let's fine tune our hyperparameter of alpha with GridSearchCV to see if we can improve our model further."
   ]
  },
  {
   "cell_type": "code",
   "execution_count": 208,
   "metadata": {},
   "outputs": [
    {
     "name": "stdout",
     "output_type": "stream",
     "text": [
      "Fitting 5 folds for each of 20 candidates, totalling 100 fits\n"
     ]
    },
    {
     "name": "stderr",
     "output_type": "stream",
     "text": [
      "[Parallel(n_jobs=2)]: Using backend LokyBackend with 2 concurrent workers.\n",
      "[Parallel(n_jobs=2)]: Done  46 tasks      | elapsed:   36.1s\n",
      "[Parallel(n_jobs=2)]: Done 100 out of 100 | elapsed:  1.4min finished\n"
     ]
    }
   ],
   "source": [
    "log_params = {\n",
    "    'penalty':[\"l1\", \"l2\"],\n",
    "    'C':list(np.linspace(0.01, 5, 10))\n",
    "}\n",
    "\n",
    "log_gridsearch = GridSearchCV(LogisticRegression(random_state=8), log_params, cv=5, verbose=1, n_jobs=2)\n",
    "\n",
    "log_gridsearch = log_gridsearch.fit(X_train, y_train)"
   ]
  },
  {
   "cell_type": "code",
   "execution_count": 231,
   "metadata": {},
   "outputs": [
    {
     "name": "stdout",
     "output_type": "stream",
     "text": [
      "0.9175603217158177\n"
     ]
    },
    {
     "data": {
      "text/plain": [
       "{'C': 4.445555555555556, 'penalty': 'l1'}"
      ]
     },
     "execution_count": 231,
     "metadata": {},
     "output_type": "execute_result"
    }
   ],
   "source": [
    "print(log_gridsearch.best_score_)\n",
    "log_gridsearch.best_params_"
   ]
  },
  {
   "cell_type": "markdown",
   "metadata": {},
   "source": [
    "L1 penalty outperforms L2 penalty. Let's gragh the relationship between the strength of C (lambda) and test accuracy."
   ]
  },
  {
   "cell_type": "code",
   "execution_count": 234,
   "metadata": {},
   "outputs": [
    {
     "data": {
      "image/png": "[encoded data removed]",
      "text/plain": [
       "<Figure size 576x576 with 1 Axes>"
      ]
     },
     "metadata": {},
     "output_type": "display_data"
    }
   ],
   "source": [
    "plt.figure(figsize = (8,8))\n",
    "\n",
    "lst_of_c = [c[\"C\"] for c in pd.DataFrame(log_gridsearch.cv_results_)[\"params\"]]\n",
    "mean_test_scores = pd.DataFrame(log_gridsearch.cv_results_)[\"mean_test_score\"]\n",
    "plt.plot(lst_of_c, \n",
    "         mean_test_scores)\n",
    "plt.title(f'Penalty Strength vs Test Accuracy: {round(log_gridsearch.best_score_,3)}', fontsize=15)\n",
    "plt.ylabel('C', fontsize=10);\n",
    "plt.xlabel('%', fontsize=10);"
   ]
  },
  {
   "cell_type": "code",
   "execution_count": 235,
   "metadata": {},
   "outputs": [
    {
     "name": "stdout",
     "output_type": "stream",
     "text": [
      "0.9175603217158177\n"
     ]
    },
    {
     "data": {
      "text/plain": [
       "{'C': 4.445555555555556, 'penalty': 'l1'}"
      ]
     },
     "execution_count": 235,
     "metadata": {},
     "output_type": "execute_result"
    }
   ],
   "source": [
    "print(log_gridsearch.best_score_)\n",
    "log_gridsearch.best_params_"
   ]
  },
  {
   "cell_type": "markdown",
   "metadata": {},
   "source": [
    "## Best Model"
   ]
  },
  {
   "cell_type": "code",
   "execution_count": 210,
   "metadata": {},
   "outputs": [
    {
     "name": "stdout",
     "output_type": "stream",
     "text": [
      "\n",
      "\n",
      " Logreg train accuracy: 0.9168948657714342\n",
      "\n",
      "\n",
      " Logreg test accuracy: 0.9341591591591591\n",
      "\n",
      "\n",
      " Area under the curve: 0.786125242248062\n"
     ]
    }
   ],
   "source": [
    "# Instantiate Model\n",
    "logreg_best = LogisticRegression(penalty='l1', C=log_gridsearch.best_params_[\"C\"])\n",
    "\n",
    "# Fit model.\n",
    "logreg_best.fit(X_train, y_train)\n",
    "\n",
    "# Generate prediction values\n",
    "yhat_train = logreg_lasso_1.predict(X_train)\n",
    "yhat_test = logreg_lasso_1.predict(X_test)\n",
    "print(\"\\n\")\n",
    "\n",
    "# Generate predictions/probabilities\n",
    "yhat_train_proba = logreg_best.predict_proba(X_train)[:,1]\n",
    "yhat_test_proba = logreg_best.predict_proba(X_test)[:,1]\n",
    "\n",
    "# Score the model - accuracy\n",
    "print(f' Logreg train accuracy: {cross_val_score(logreg_best, X_train, y_train, cv=5).mean()}')\n",
    "print(\"\\n\")\n",
    "\n",
    "print(f' Logreg test accuracy: {cross_val_score(logreg_best, X_test, y_test, cv=5).mean()}')\n",
    "print(\"\\n\")\n",
    "\n",
    "# Area under the curve\n",
    "print(f' Area under the curve: {roc_auc_score(y_test, logreg_best.predict_proba(X_test)[:,1])}')"
   ]
  },
  {
   "cell_type": "markdown",
   "metadata": {},
   "source": [
    "<table class=\"table\">\n",
    "<thead class=\"table-responsive table-striped\">\n",
    "<tr>\n",
    "<th>Metric</th>\n",
    "<th>Baseline</th>\n",
    "<th>Logistic Regression, Lasso = 1</th>\n",
    "<th>Logistic Regression, Lasso = Optimal</th>\n",
    "</tr>\n",
    "<tbody>\n",
    "<tr>\n",
    "<td>Train Accuracy</td>\n",
    "<td>94%</td>\n",
    "<td>90%</td>\n",
    "<td>92%</td>\n",
    "</tr>\n",
    "<tr>\n",
    "<td>Test Accuracy</td>\n",
    "<td>96%</td>\n",
    "<td>92%</td>\n",
    "<td>93%</td>\n",
    "</tr>\n",
    "<tr>\n",
    "<td>Area under the curve</td>\n",
    "<td>77%</td>\n",
    "<td>80%</td>\n",
    "<td>79%</td>\n",
    "</tr>\n",
    "</tbody>\n",
    "</table>"
   ]
  },
  {
   "cell_type": "code",
   "execution_count": 211,
   "metadata": {},
   "outputs": [],
   "source": [
    "pred_15_17 = pd.DataFrame(zip(X_test[[\"season\",\"team_id\"]],yhat_test))\n",
    "pred_15_17 = pd.DataFrame(\n",
    "    {\"season\": X_test[\"season\"],\n",
    "     \"team_id\": X_test[\"team_id\"],\n",
    "     \"final_four\": y_test,\n",
    "     \"yhat\": yhat_test  \n",
    "    }\n",
    ")"
   ]
  },
  {
   "cell_type": "code",
   "execution_count": 230,
   "metadata": {},
   "outputs": [
    {
     "data": {
      "text/html": [
       "<table border=\"1\" class=\"dataframe table table-striped table-responsive\">\n",
       "  <thead>\n",
       "    <tr style=\"text-align: right;\">\n",
       "      <th></th>\n",
       "      <th>index</th>\n",
       "      <th>season</th>\n",
       "      <th>team_id</th>\n",
       "      <th>final_four</th>\n",
       "      <th>yhat</th>\n",
       "      <th>team_name</th>\n",
       "      <th>conference_code</th>\n",
       "    </tr>\n",
       "  </thead>\n",
       "  <tbody>\n",
       "    <tr>\n",
       "      <th>6</th>\n",
       "      <td>155</td>\n",
       "      <td>2015.00</td>\n",
       "      <td>1277.00</td>\n",
       "      <td>1.00</td>\n",
       "      <td>0.00</td>\n",
       "      <td>Michigan St</td>\n",
       "      <td>big_ten</td>\n",
       "    </tr>\n",
       "    <tr>\n",
       "      <th>17</th>\n",
       "      <td>421</td>\n",
       "      <td>2015.00</td>\n",
       "      <td>1181.00</td>\n",
       "      <td>1.00</td>\n",
       "      <td>1.00</td>\n",
       "      <td>Duke</td>\n",
       "      <td>acc</td>\n",
       "    </tr>\n",
       "    <tr>\n",
       "      <th>50</th>\n",
       "      <td>1077</td>\n",
       "      <td>2015.00</td>\n",
       "      <td>1458.00</td>\n",
       "      <td>1.00</td>\n",
       "      <td>1.00</td>\n",
       "      <td>Wisconsin</td>\n",
       "      <td>big_ten</td>\n",
       "    </tr>\n",
       "    <tr>\n",
       "      <th>67</th>\n",
       "      <td>1440</td>\n",
       "      <td>2016.00</td>\n",
       "      <td>1314.00</td>\n",
       "      <td>1.00</td>\n",
       "      <td>1.00</td>\n",
       "      <td>North Carolina</td>\n",
       "      <td>acc</td>\n",
       "    </tr>\n",
       "    <tr>\n",
       "      <th>94</th>\n",
       "      <td>2048</td>\n",
       "      <td>2016.00</td>\n",
       "      <td>1393.00</td>\n",
       "      <td>1.00</td>\n",
       "      <td>0.00</td>\n",
       "      <td>Syracuse</td>\n",
       "      <td>acc</td>\n",
       "    </tr>\n",
       "    <tr>\n",
       "      <th>102</th>\n",
       "      <td>2204</td>\n",
       "      <td>2016.00</td>\n",
       "      <td>1437.00</td>\n",
       "      <td>1.00</td>\n",
       "      <td>1.00</td>\n",
       "      <td>Villanova</td>\n",
       "      <td>big_east</td>\n",
       "    </tr>\n",
       "    <tr>\n",
       "      <th>119</th>\n",
       "      <td>2498</td>\n",
       "      <td>2016.00</td>\n",
       "      <td>1328.00</td>\n",
       "      <td>1.00</td>\n",
       "      <td>0.00</td>\n",
       "      <td>Oklahoma</td>\n",
       "      <td>big_twelve</td>\n",
       "    </tr>\n",
       "    <tr>\n",
       "      <th>141</th>\n",
       "      <td>2997</td>\n",
       "      <td>2017.00</td>\n",
       "      <td>1376.00</td>\n",
       "      <td>1.00</td>\n",
       "      <td>0.00</td>\n",
       "      <td>South Carolina</td>\n",
       "      <td>sec</td>\n",
       "    </tr>\n",
       "    <tr>\n",
       "      <th>153</th>\n",
       "      <td>3244</td>\n",
       "      <td>2017.00</td>\n",
       "      <td>1211.00</td>\n",
       "      <td>1.00</td>\n",
       "      <td>1.00</td>\n",
       "      <td>Gonzaga</td>\n",
       "      <td>wcc</td>\n",
       "    </tr>\n",
       "    <tr>\n",
       "      <th>171</th>\n",
       "      <td>3556</td>\n",
       "      <td>2017.00</td>\n",
       "      <td>1332.00</td>\n",
       "      <td>1.00</td>\n",
       "      <td>0.00</td>\n",
       "      <td>Oregon</td>\n",
       "      <td>pac_twelve</td>\n",
       "    </tr>\n",
       "    <tr>\n",
       "      <th>186</th>\n",
       "      <td>3857</td>\n",
       "      <td>2017.00</td>\n",
       "      <td>1314.00</td>\n",
       "      <td>1.00</td>\n",
       "      <td>1.00</td>\n",
       "      <td>North Carolina</td>\n",
       "      <td>acc</td>\n",
       "    </tr>\n",
       "  </tbody>\n",
       "</table>"
      ],
      "text/plain": [
       "<IPython.core.display.HTML object>"
      ]
     },
     "execution_count": 230,
     "metadata": {},
     "output_type": "execute_result"
    }
   ],
   "source": [
    "results = pd.merge(pred_15_17,teams, how=\"left\",on=[\"season\",\"team_id\"]).drop_duplicates().reset_index()\n",
    "results.sort_values(by=\"final_four\",ascending=False).drop(\"index\",axis=1)\n",
    "HTML(results.query('final_four==1').to_html(classes='table table-striped table-responsive'))"
   ]
  },
  {
   "cell_type": "markdown",
   "metadata": {},
   "source": [
    "---\n",
    "# Results \n",
    "\n",
    "Overall, I was able to improve from the baseline logistic model by and 2% in ROC curve. What I am impressed about is that the best model via Lasso is able to predict with less variables, while also maintaining interpretability (no wild transformations), with almost the same level of accuracy for test.\n",
    "\n",
    "In summary:\n",
    "\n",
    "* Win_% is the most important predictor. Although it's strange to see that it has a negative sign, this is probably the case because schools that make to to the final four actually have lower win % than schools who do not make it to the final four because they face tougher competition (57% avg vs 72% avg). This supports the argument that which conference you play for is very important in predictive power. \n",
    "\n",
    "* Again, your strongest conferences, are the big_twelve, acc, big_ten. If you play in acc, your likelihood of reaching final four is very low, because you will likely be dominated by the top tier schools in those conferences. \n",
    "\n",
    "* In terms of regular season states, 3PM for and against is important, as the game continues to move shooting more threes, as it's been proven to be an effective strategy. \n",
    "\n",
    "* Lastly, seed is not to be overlooked as it's a good composite score for a team's strength, capturing a lot of regular season performance. As your seed increases by 1, your likelihood of reaching final four is 0.5x less. This makes sense... a 3 seed only has a ~12.5% (0.5^3) of making to final four! This is consistent with FiveThirtyEight's forecasts. Purdue, Houston, & Texas Tech had 10-14% of making it to the Final four.\n",
    "\n",
    "* Similar to the NBA, margin of victory is a predictive variable though with a positive correlation. In the NBA, there is more parity since each team plays one another at least twice in a season, so individual team stats are more important than seed & conference.\n",
    "\n",
    "My model predicts the probability of a team reaching the final four, primarily based on its regular season data, seed, and conference. I would recommend coaches to develop the three ball ability, as it continues dominate in the NBA and at the college level, and to outperform in the regular season to improve your seeding, to ultimately improve your chances in moving to the final four, through playing weaker opponents. "
   ]
  },
  {
   "cell_type": "markdown",
   "metadata": {},
   "source": [
    "Assumptions \n",
    "<ul>\n",
    "<li> In this model, there are things that we cannot predict, including injuries, player specific data, draft prospects, travel & time between games (are players are well rested?), coaches track record, momentum of a team firing on all cylinders (last 10 games), given the absence of data. </li>\n",
    "\n",
    "<li> In this example, there isn't a penalty on false positives vs false negatives, as wrong is wrong. Predicting a loser who won isn't worse than a winner that lost. There may be implications in gambling, but that's out of scope.  </li>\n",
    "\n",
    "Research Links\n",
    "<li> https://projects.fivethirtyeight.com/2019-march-madness-predictions/ </li>\n",
    "</ul>"
   ]
  },
  {
   "cell_type": "markdown",
   "metadata": {},
   "source": [
    "---\n",
    "\n",
    "##  Next Steps\n",
    "\n",
    "This was a very fun exploration and may plan to revisit this project in a future blog post.\n",
    "\n",
    "Ideas:\n",
    "<ul>\n",
    "    <li> Simulating winner between 2 games (or at the very least, the final four), using a Poisson model for pts scored </li>\n",
    "    <li> Logistic vs Non Parametric (KNN, SVM, random forests) </li>\n",
    "    <li> Scrap 2018 data, and run model, and add graphs (with SMOTE, 2015->2017 data is obfuscated) </li>\n",
    "    <li> Feature engineer strength of schedule (they have this on sports reference) </li>\n",
    "    <li> ELO </li>\n",
    "    <li> No. of previous appearances in history </li>\n",
    "    <li> Confidence intervals of predicted probabilities </li>\n",
    "</ul>"
   ]
  }
 ],
 "metadata": {
  "kernelspec": {
   "display_name": "Python 3",
   "language": "python",
   "name": "python3"
  },
  "language_info": {
   "codemirror_mode": {
    "name": "ipython",
    "version": 3
   },
   "file_extension": ".py",
   "mimetype": "text/x-python",
   "name": "python",
   "nbconvert_exporter": "python",
   "pygments_lexer": "ipython3",
   "version": "3.6.8"
  },
  "toc": {
   "base_numbering": 1,
   "nav_menu": {},
   "number_sections": true,
   "sideBar": true,
   "skip_h1_title": false,
   "title_cell": "Table of Contents",
   "title_sidebar": "Contents",
   "toc_cell": false,
   "toc_position": {
    "height": "calc(100% - 180px)",
    "left": "10px",
    "top": "150px",
    "width": "287.988px"
   },
   "toc_section_display": true,
   "toc_window_display": false
  },
  "varInspector": {
   "cols": {
    "lenName": 16,
    "lenType": 16,
    "lenVar": 40
   },
   "kernels_config": {
    "python": {
     "delete_cmd_postfix": "",
     "delete_cmd_prefix": "del ",
     "library": "var_list.py",
     "varRefreshCmd": "print(var_dic_list())"
    },
    "r": {
     "delete_cmd_postfix": ") ",
     "delete_cmd_prefix": "rm(",
     "library": "var_list.r",
     "varRefreshCmd": "cat(var_dic_list()) "
    }
   },
   "types_to_exclude": [
    "module",
    "function",
    "builtin_function_or_method",
    "instance",
    "_Feature"
   ],
   "window_display": false
  }
 },
 "nbformat": 4,
 "nbformat_minor": 2
}
